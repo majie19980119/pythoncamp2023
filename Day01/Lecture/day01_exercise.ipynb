{
 "cells": [
  {
   "cell_type": "markdown",
   "metadata": {},
   "source": [
    "#### Day 1: Data Structures\n",
    "\n",
    "Instructions: \n",
    "\n",
    "1. Write a `for` loop, `white` loop, or a `function` (or all three!) to create a list of the first 10 numbers of the fibonacci sequence.\n",
    "    - Fibonacci sequence\n",
    "    - X_[i] = X_[i-1] + X_[i-2], where X_1 = 1, X_2 = 1\n",
    "    - 1,1,2,3,5,8,...\n",
    "2. Can you now do it for the first 30 numbers? \n",
    "3. Complete the functions with using your solutions \n",
    "\n",
    "\n",
    "\n"
   ]
  },
  {
   "cell_type": "code",
   "execution_count": 139,
   "metadata": {},
   "outputs": [
    {
     "name": "stdout",
     "output_type": "stream",
     "text": [
      "1\n",
      "1\n",
      "2\n",
      "3\n",
      "5\n",
      "8\n",
      "13\n",
      "21\n",
      "34\n",
      "55\n",
      "89\n",
      "144\n",
      "233\n",
      "377\n",
      "610\n",
      "987\n",
      "1597\n",
      "2584\n",
      "4181\n",
      "6765\n",
      "10946\n",
      "17711\n",
      "28657\n",
      "46368\n",
      "75025\n",
      "121393\n",
      "196418\n",
      "317811\n",
      "514229\n"
     ]
    }
   ],
   "source": [
    "\n",
    "a=1\n",
    "b=1\n",
    "print(a)\n",
    "print(b)\n",
    "for i in range(1,28):\n",
    "   c=a+b\n",
    "   a=b\n",
    "   b=c\n",
    "   print(c)\n"
   ]
  },
  {
   "cell_type": "code",
   "execution_count": 28,
   "metadata": {},
   "outputs": [
    {
     "data": {
      "text/plain": [
       "False"
      ]
     },
     "execution_count": 28,
     "metadata": {},
     "output_type": "execute_result"
    }
   ],
   "source": [
    "# return true if there is no e in 'word', else false\n",
    "def has_no_e(word):\n",
    "    if \"e\" in word:\n",
    "       return False\n",
    "    else:\n",
    "        return True\n",
    "\n",
    "has_no_e(\"we\")\n"
   ]
  },
  {
   "cell_type": "code",
   "execution_count": 46,
   "metadata": {},
   "outputs": [],
   "source": [
    "# return true if there is e in 'word', else false\n",
    "def has_e(word):\n",
    "        return not has_no_e"
   ]
  },
  {
   "cell_type": "code",
   "execution_count": 66,
   "metadata": {},
   "outputs": [
    {
     "data": {
      "text/plain": [
       "True"
      ]
     },
     "execution_count": 66,
     "metadata": {},
     "output_type": "execute_result"
    }
   ],
   "source": [
    "# return true if word1 contains only letters from word2, else false\n",
    "def uses_only(word1, word2):\n",
    "    letters1=[letter for letter in word1]\n",
    "    letters2=[letter for letter in word2]\n",
    "    for i in letters1:\n",
    "        if i not in letters2:\n",
    "            return False\n",
    "        else:\n",
    "            return True\n",
    "\n",
    "uses_only(\"hi\",\"ih\")"
   ]
  },
  {
   "cell_type": "code",
   "execution_count": 109,
   "metadata": {},
   "outputs": [
    {
     "data": {
      "text/plain": [
       "False"
      ]
     },
     "execution_count": 109,
     "metadata": {},
     "output_type": "execute_result"
    }
   ],
   "source": [
    "# return true if word1 uses all the letters in word2, else false\n",
    "def uses_all(word1, word2):\n",
    "    letters1=[letter for letter in word1]\n",
    "    letters2=[letter for letter in word2]\n",
    "    for i in letters2:\n",
    "        if i not in letters1:\n",
    "            return False\n",
    "\n",
    "\n",
    "uses_all(\"hi\",\"ihdua\")"
   ]
  },
  {
   "cell_type": "code",
   "execution_count": 114,
   "metadata": {},
   "outputs": [
    {
     "data": {
      "text/plain": [
       "False"
      ]
     },
     "execution_count": 114,
     "metadata": {},
     "output_type": "execute_result"
    }
   ],
   "source": [
    "# return true or false \n",
    "# Is the word in alphabetical order? return True if yes, False if not. \n",
    "# Hint: check the methods for lists\n",
    "\n",
    "def is_abecedarian(word):\n",
    "    letters1=[letter for letter in word]\n",
    "    return letters1 == sorted(letters1)\n",
    "\n",
    "is_abecedarian(\"abcdeeea\")"
   ]
  }
 ],
 "metadata": {
  "kernelspec": {
   "display_name": "base",
   "language": "python",
   "name": "python3"
  },
  "language_info": {
   "codemirror_mode": {
    "name": "ipython",
    "version": 3
   },
   "file_extension": ".py",
   "mimetype": "text/x-python",
   "name": "python",
   "nbconvert_exporter": "python",
   "pygments_lexer": "ipython3",
   "version": "3.8.3"
  },
  "orig_nbformat": 4
 },
 "nbformat": 4,
 "nbformat_minor": 2
}
