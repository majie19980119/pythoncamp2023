{
 "cells": [
  {
   "cell_type": "markdown",
   "metadata": {},
   "source": [
    "1. Make all characters capitalized. \n",
    "    - check out the .upper()\n",
    "    - handle the exception when intergers are given instead of string"
   ]
  },
  {
   "cell_type": "code",
   "execution_count": 20,
   "metadata": {},
   "outputs": [
    {
     "name": "stdout",
     "output_type": "stream",
     "text": [
      "HI\n",
      "Input should be strings!\n"
     ]
    }
   ],
   "source": [
    "def shout(txt):\n",
    "    try:\n",
    "        txt = txt.upper()\n",
    "        print(txt)\n",
    "    except AttributeError: \n",
    "        print(\"Input should be strings!\")\n",
    "       \n",
    "\n",
    "\n",
    "shout(\"hi\")\n",
    "shout(7)"
   ]
  },
  {
   "cell_type": "markdown",
   "metadata": {},
   "source": [
    "2. Reverse all characters in a string\n",
    "    - handle the exception when integers are given \n",
    "    - use a different method to handle this from 1."
   ]
  },
  {
   "cell_type": "code",
   "execution_count": 27,
   "metadata": {},
   "outputs": [
    {
     "name": "stdout",
     "output_type": "stream",
     "text": [
      "ih\n",
      "ih\n"
     ]
    },
    {
     "data": {
      "text/plain": [
       "'ih'"
      ]
     },
     "execution_count": 27,
     "metadata": {},
     "output_type": "execute_result"
    }
   ],
   "source": [
    "def reverse(txt):\n",
    "    try:\n",
    "       txt = txt[::-1]\n",
    "       print(txt)\n",
    "    except TypeError:\n",
    "        print(\"Input should be strings\")\n",
    "\n",
    "reverse(\"hi\")\n",
    "\n",
    "def reverse(txt):\n",
    "    if type(txt) != str:\n",
    "       raise TypeError(\"Input should be strings\")\n",
    "    else:       \n",
    "       txt = txt[::-1]\n",
    "       print(txt)\n",
    "\n",
    "reverse(\"hi\")\n",
    "\n",
    "def reverse(txt):\n",
    "   if type(txt) != str:\n",
    "      raise TypeError(\"Input should be strings\")\n",
    "   return  txt[::-1]\n",
    "    \n",
    "\n",
    "reverse(\"hi\")\n"
   ]
  },
  {
   "cell_type": "markdown",
   "metadata": {},
   "source": [
    "3. Reverse the word ordering in a string\n",
    "    - assume words are separated by space\n",
    "    - think of one error that could occur and handle it accordingly"
   ]
  },
  {
   "cell_type": "code",
   "execution_count": 78,
   "metadata": {},
   "outputs": [
    {
     "data": {
      "text/plain": [
       "'here am i'"
      ]
     },
     "execution_count": 78,
     "metadata": {},
     "output_type": "execute_result"
    }
   ],
   "source": [
    "def reversewords(txt):\n",
    "    if type(txt) != str:\n",
    "        raise TypeError(\"Input should be strings\")\n",
    "    txt = txt.split(sep = \" \")\n",
    "    return ' '.join(txt[::-1])\n",
    "  \n",
    "\n",
    "reversewords(\"i am here\")"
   ]
  },
  {
   "cell_type": "markdown",
   "metadata": {},
   "source": [
    "4. Reverse letters in each word in the string\n",
    "    - The word ordering is preserved\n",
    "    - Only the letters are reversed "
   ]
  },
  {
   "cell_type": "code",
   "execution_count": 77,
   "metadata": {},
   "outputs": [
    {
     "data": {
      "text/plain": [
       "'ereh-ma-i'"
      ]
     },
     "execution_count": 77,
     "metadata": {},
     "output_type": "execute_result"
    }
   ],
   "source": [
    "def reversewordletters(txt):\n",
    "    txt = txt.split(sep = \" \")\n",
    "    for i in range(0, len(txt)):\n",
    "        txt[i]=txt[i][::-1]\n",
    "    return ' '.join(txt)\n",
    "\n",
    "\n",
    "reversewordletters(\"i am here\")"
   ]
  },
  {
   "cell_type": "markdown",
   "metadata": {},
   "source": [
    "5. (Optional) Change text to piglatin... Google it! \n",
    "    - Handle errors accordingly"
   ]
  },
  {
   "cell_type": "code",
   "execution_count": 108,
   "metadata": {},
   "outputs": [
    {
     "data": {
      "text/plain": [
       "'thonpyay class is fun'"
      ]
     },
     "execution_count": 108,
     "metadata": {},
     "output_type": "execute_result"
    }
   ],
   "source": [
    "def piglatin(txt):\n",
    "    txt = txt.lower()\n",
    "    txt = txt.split(sep = \" \")\n",
    "    vowels = ['a','e','i','o','u']\n",
    "    for i in range(0,len(txt)):\n",
    "        if txt[i][0] in vowels:\n",
    "            txt[i]= txt[i]+ \"way\"\n",
    "        elif txt[i][0] not in vowels and txt[i][1] not in vowels:\n",
    "            txt[i]= txt[i][2:]+ txt[i][0:2]+ \"ay\"\n",
    "        elif txt[i][0] not in vowels and txt[i][1] in vowels:\n",
    "            txt[i]= txt[i][1:]+txt[i][0:1]+ \"ay\"\n",
    "        return ' '.join(txt)\n",
    "        \n",
    "  \n",
    "    \n",
    "piglatin(\"python class is fun\")\n"
   ]
  },
  {
   "cell_type": "code",
   "execution_count": null,
   "metadata": {},
   "outputs": [],
   "source": []
  }
 ],
 "metadata": {
  "kernelspec": {
   "display_name": "base",
   "language": "python",
   "name": "python3"
  },
  "language_info": {
   "codemirror_mode": {
    "name": "ipython",
    "version": 3
   },
   "file_extension": ".py",
   "mimetype": "text/x-python",
   "name": "python",
   "nbconvert_exporter": "python",
   "pygments_lexer": "ipython3",
   "version": "3.8.3"
  },
  "orig_nbformat": 4
 },
 "nbformat": 4,
 "nbformat_minor": 2
}
