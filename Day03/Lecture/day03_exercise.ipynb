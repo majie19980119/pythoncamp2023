{
 "cells": [
  {
   "cell_type": "markdown",
   "metadata": {},
   "source": [
    "1. Write a function that counts how many vowels (aeiou) are in a word\n",
    "    - Raise a TypeError with an informative message if 'word' is passed as an integer\n",
    "    - When done, run the test in your script and see your results."
   ]
  },
  {
   "cell_type": "code",
   "execution_count": 66,
   "metadata": {},
   "outputs": [],
   "source": [
    "def count_vowels(word):\n",
    "  if type(word) != str:\n",
    "    raise TypeError(\"Input should be word\")\n",
    "  else:\n",
    "    word = word.lower()\n",
    "    letters = [letter for letter in word]\n",
    "    vowels =['a','e','i','o','u']\n",
    "    count= 0\n",
    "    for i in range(0,len(word)):\n",
    "        if letters[i] in vowels:\n",
    "            count += 1\n",
    "    return count\n",
    "  \n",
    "    \n"
   ]
  },
  {
   "cell_type": "code",
   "execution_count": 67,
   "metadata": {},
   "outputs": [
    {
     "data": {
      "text/plain": [
       "2"
      ]
     },
     "execution_count": 67,
     "metadata": {},
     "output_type": "execute_result"
    }
   ],
   "source": [
    "count_vowels('dAsrfe')"
   ]
  },
  {
   "cell_type": "code",
   "execution_count": 68,
   "metadata": {},
   "outputs": [
    {
     "ename": "TypeError",
     "evalue": "Input should be word",
     "output_type": "error",
     "traceback": [
      "\u001b[0;31m---------------------------------------------------------------------------\u001b[0m",
      "\u001b[0;31mTypeError\u001b[0m                                 Traceback (most recent call last)",
      "Cell \u001b[0;32mIn[68], line 1\u001b[0m\n\u001b[0;32m----> 1\u001b[0m count_vowels(\u001b[39m1\u001b[39;49m)\n",
      "Cell \u001b[0;32mIn[66], line 3\u001b[0m, in \u001b[0;36mcount_vowels\u001b[0;34m(word)\u001b[0m\n\u001b[1;32m      1\u001b[0m \u001b[39mdef\u001b[39;00m \u001b[39mcount_vowels\u001b[39m(word):\n\u001b[1;32m      2\u001b[0m   \u001b[39mif\u001b[39;00m \u001b[39mtype\u001b[39m(word) \u001b[39m!=\u001b[39m \u001b[39mstr\u001b[39m:\n\u001b[0;32m----> 3\u001b[0m     \u001b[39mraise\u001b[39;00m \u001b[39mTypeError\u001b[39;00m(\u001b[39m\"\u001b[39m\u001b[39mInput should be word\u001b[39m\u001b[39m\"\u001b[39m)\n\u001b[1;32m      4\u001b[0m   \u001b[39melse\u001b[39;00m:\n\u001b[1;32m      5\u001b[0m     word \u001b[39m=\u001b[39m word\u001b[39m.\u001b[39mlower()\n",
      "\u001b[0;31mTypeError\u001b[0m: Input should be word"
     ]
    }
   ],
   "source": [
    "count_vowels(1)"
   ]
  },
  {
   "cell_type": "markdown",
   "metadata": {},
   "source": [
    "2. Write a python function that divides two numbers. It should handle the exception when you divide a number by zero. Use a try-except block."
   ]
  },
  {
   "cell_type": "code",
   "execution_count": 82,
   "metadata": {},
   "outputs": [],
   "source": [
    "def divide_numbers(x, y):\n",
    "    try:\n",
    "        result = x/y\n",
    "        print(result)\n",
    "    except ZeroDivisionError:\n",
    "        print(\"Do not divide by zero!\")\n",
    "    \n",
    "    "
   ]
  },
  {
   "cell_type": "code",
   "execution_count": 83,
   "metadata": {},
   "outputs": [
    {
     "name": "stdout",
     "output_type": "stream",
     "text": [
      "2.0\n",
      "Do not divide by zero!\n"
     ]
    }
   ],
   "source": [
    "divide_numbers(2,1)\n",
    "divide_numbers(2,0)\n"
   ]
  },
  {
   "cell_type": "markdown",
   "metadata": {},
   "source": [
    "3. Write a function that prints out the value at given index in a list. Handle the exception when your index is out of range. "
   ]
  },
  {
   "cell_type": "code",
   "execution_count": 84,
   "metadata": {},
   "outputs": [],
   "source": [
    "def test_index(your_list, index):\n",
    "    try:\n",
    "        print(your_list[index])\n",
    "    except IndexError:\n",
    "        print(\"Index is out of range!\")\n"
   ]
  },
  {
   "cell_type": "code",
   "execution_count": 85,
   "metadata": {},
   "outputs": [
    {
     "name": "stdout",
     "output_type": "stream",
     "text": [
      "Index is out of range!\n"
     ]
    }
   ],
   "source": [
    "test_index([1,1,1,1,1,1],9)"
   ]
  }
 ],
 "metadata": {
  "kernelspec": {
   "display_name": "base",
   "language": "python",
   "name": "python3"
  },
  "language_info": {
   "codemirror_mode": {
    "name": "ipython",
    "version": 3
   },
   "file_extension": ".py",
   "mimetype": "text/x-python",
   "name": "python",
   "nbconvert_exporter": "python",
   "pygments_lexer": "ipython3",
   "version": "3.8.3"
  },
  "orig_nbformat": 4
 },
 "nbformat": 4,
 "nbformat_minor": 2
}
