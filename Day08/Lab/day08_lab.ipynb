{
 "cells": [
  {
   "cell_type": "markdown",
   "metadata": {},
   "source": [
    "#### Day 8: Lab \n",
    "\n",
    "1. Write a function using recursion to calculate the greatest common divisor of two numbers \n",
    "- Helpful link: https://www.khanacademy.org/computing/computer-science/cryptography/modarithmetic/a/the-euclidean-algorithm"
   ]
  },
  {
   "cell_type": "code",
   "execution_count": 66,
   "metadata": {},
   "outputs": [
    {
     "data": {
      "text/plain": [
       "6"
      ]
     },
     "execution_count": 66,
     "metadata": {},
     "output_type": "execute_result"
    }
   ],
   "source": [
    "def gcd(x, y):\n",
    "    up = max(x,y)\n",
    "    lo = min(x,y)\n",
    "    re = up % lo\n",
    "    if re == 0:\n",
    "       return lo\n",
    "    return gcd(lo,re)\n",
    "\n",
    "gcd(270,192) \n",
    "\n"
   ]
  },
  {
   "cell_type": "markdown",
   "metadata": {},
   "source": [
    "2. Write a function using recursion that checks whether a number is a prime number. \n",
    "    - return True if n is prime\n",
    "    - return False otherwise"
   ]
  },
  {
   "cell_type": "code",
   "execution_count": 69,
   "metadata": {},
   "outputs": [
    {
     "data": {
      "text/plain": [
       "False"
      ]
     },
     "execution_count": 69,
     "metadata": {},
     "output_type": "execute_result"
    }
   ],
   "source": [
    "def isPrime(n, i=2):\n",
    "    if n==1:\n",
    "        return False\n",
    "    if n ==i:\n",
    "        return True\n",
    "    elif n% i == 0:\n",
    "        return False\n",
    "    \n",
    "    return isPrime(n, i+1)\n",
    "\n",
    "isPrime(1)\n"
   ]
  }
 ],
 "metadata": {
  "kernelspec": {
   "display_name": "base",
   "language": "python",
   "name": "python3"
  },
  "language_info": {
   "codemirror_mode": {
    "name": "ipython",
    "version": 3
   },
   "file_extension": ".py",
   "mimetype": "text/x-python",
   "name": "python",
   "nbconvert_exporter": "python",
   "pygments_lexer": "ipython3",
   "version": "3.8.5"
  },
  "orig_nbformat": 4
 },
 "nbformat": 4,
 "nbformat_minor": 2
}
