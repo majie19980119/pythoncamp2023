{
 "cells": [
  {
   "cell_type": "markdown",
   "metadata": {},
   "source": [
    "#### Day 8: Complexity, Recursion, Sorting and Searching\n",
    "\n",
    "_Will you use recursion for your research in political science? -- Probably not._\n",
    "\n",
    "If you are going to the industry, these become really important for code interviews. \n",
    "\n",
    "Here are more sources on that: \n",
    "- https://leetcode.com/\n",
    "- https://open.kattis.com/problems\n",
    "\n",
    "\n",
    "\n",
    "#### Part 1. Recursion\n",
    "\n",
    "Recursion simply refers to when a function calls itself. \n",
    "\n",
    "You need to know\n",
    "  - the base case\n",
    "  - when to call the function\n",
    "  - when to stop\n",
    "\n",
    "\n",
    "The typical example is factorial: \n",
    "(n)! = n * (n-1)! = n * (n-1) * (n-2)! = n * (n-1) * (n-2) ... * 2 * 1\n",
    "\n",
    "\n",
    "A physical world example would be to place two parallel mirrors facing each other. Any object in between them would be reflected recursively. \n",
    "\n",
    "\n",
    "Why recursion? Why not recursion?\n",
    "- Make the code look clean\n",
    "- Sequence generation is easier\n",
    "- Logic behind is hard to follow sometimes\n",
    "- Recursiveness is expensive and inefficient uses a lot of memory\n",
    "- Hard to debug\n",
    "- Source: https://www.programiz.com/python-programming/recursion"
   ]
  },
  {
   "cell_type": "code",
   "execution_count": null,
   "metadata": {},
   "outputs": [],
   "source": [
    "# Example, Factorial:\n",
    "# n! = n * (n-1) * (n - 2) * ... * 2 * 1\n",
    "\n",
    "# def nFactorial(n):\n",
    "#   if base case:\n",
    "#       return something\n",
    "#   else:\n",
    "#       return a recursive call"
   ]
  },
  {
   "cell_type": "code",
   "execution_count": 1,
   "metadata": {},
   "outputs": [
    {
     "data": {
      "text/plain": [
       "120"
      ]
     },
     "execution_count": 1,
     "metadata": {},
     "output_type": "execute_result"
    }
   ],
   "source": [
    "def nFactorial(n):\n",
    "    if n == 1:\n",
    "        return n\n",
    "    else: \n",
    "        return n * nFactorial(n-1)\n",
    "nFactorial(5)"
   ]
  },
  {
   "cell_type": "markdown",
   "metadata": {},
   "source": [
    "How does it work?\n",
    "\n",
    "- n = 5, so return 5 * f(4)\n",
    "- n = 4, so return 5 * 4 * f(3)...\n",
    "- ...\n",
    "- n = 1 so return n = 5 * 4 * 3 * 2 * f(1) = 120"
   ]
  },
  {
   "cell_type": "code",
   "execution_count": 2,
   "metadata": {},
   "outputs": [
    {
     "data": {
      "text/plain": [
       "120"
      ]
     },
     "execution_count": 2,
     "metadata": {},
     "output_type": "execute_result"
    }
   ],
   "source": [
    "# Using factorial from math\n",
    "import math\n",
    "math.factorial(5)"
   ]
  },
  {
   "cell_type": "markdown",
   "metadata": {},
   "source": [
    "Recursive Fibonacci Sequence!"
   ]
  },
  {
   "cell_type": "code",
   "execution_count": 3,
   "metadata": {},
   "outputs": [],
   "source": [
    "# Find n'th number in fibonacci sequence\n",
    "# 1, 1, 2, 3, 5, 8, 13, 21...\n",
    "def fib(n):\n",
    "    if n<=1:\n",
    "        return 1\n",
    "    return fib(n-1) + fib(n-2)"
   ]
  },
  {
   "cell_type": "code",
   "execution_count": 4,
   "metadata": {},
   "outputs": [
    {
     "data": {
      "text/plain": [
       "89"
      ]
     },
     "execution_count": 4,
     "metadata": {},
     "output_type": "execute_result"
    }
   ],
   "source": [
    "fib(10)"
   ]
  },
  {
   "cell_type": "markdown",
   "metadata": {},
   "source": [
    "How does this work?\n",
    "- fib(0): 0 <= 1, n = 1\n",
    "- fib(1): 1 <= 1, n = 1\n",
    "- fib(2): 2 > 1...  # return fib(1) + fib(0) = 1 + 1 = 2 \n",
    "- fib(3): 3 > 1... # return fib(2) + fib(1) = 2 + 1 = 3\n"
   ]
  },
  {
   "cell_type": "code",
   "execution_count": 10,
   "metadata": {},
   "outputs": [
    {
     "name": "stdout",
     "output_type": "stream",
     "text": [
      "0 : 1\n",
      "1 : 1\n",
      "2 : 2\n",
      "3 : 3\n",
      "4 : 5\n",
      "5 : 8\n",
      "6 : 13\n",
      "7 : 21\n",
      "8 : 34\n",
      "9 : 55\n"
     ]
    }
   ],
   "source": [
    "for i in range(10):\n",
    "    print(\"{0} : {1}\".format(i, fib(i)))"
   ]
  },
  {
   "cell_type": "markdown",
   "metadata": {},
   "source": [
    "#### Part 2. Search Algorithms: Find the position of a value within a list\n",
    "\n",
    "There are numerous searching techniques. \n",
    "\n",
    "In the lecture, we will look at two search algorithms that perform this task. \n",
    "\n",
    "Source: https://python-textbok.readthedocs.io/en/1.0/Sorting_and_Searching_Algorithms.html\n"
   ]
  },
  {
   "cell_type": "markdown",
   "metadata": {},
   "source": [
    "#### 2.1 Linear Search: check the values in sequence until the desired value is found\n",
    "\n",
    "- returns element in a list and its position"
   ]
  },
  {
   "cell_type": "code",
   "execution_count": 11,
   "metadata": {},
   "outputs": [
    {
     "name": "stdout",
     "output_type": "stream",
     "text": [
      "[2, 25, 10, 3, 13, 18, 17, 14, 7, 16, 23, 11, 22, 24, 21, 19, 5, 20, 1, 15, 0, 12, 6, 4, 9, 8]\n"
     ]
    }
   ],
   "source": [
    "import random\n",
    "\n",
    "mylist = list(range(26))\n",
    "random.shuffle(mylist)\n",
    "print(mylist)"
   ]
  },
  {
   "cell_type": "code",
   "execution_count": 12,
   "metadata": {},
   "outputs": [],
   "source": [
    "def linear_search(mylist, element):\n",
    "    steps = 0 # steps counter\n",
    "    for item in mylist:\n",
    "        steps += 1 # in this case index will start at 1\n",
    "        if item == element:\n",
    "            print(\"Steps:\" + str(steps))\n",
    "            return item"
   ]
  },
  {
   "cell_type": "code",
   "execution_count": 14,
   "metadata": {},
   "outputs": [
    {
     "name": "stdout",
     "output_type": "stream",
     "text": [
      "Steps:17\n"
     ]
    },
    {
     "data": {
      "text/plain": [
       "5"
      ]
     },
     "execution_count": 14,
     "metadata": {},
     "output_type": "execute_result"
    }
   ],
   "source": [
    "# linear_search(mylist, 1)\n",
    "linear_search(mylist, 5)\n",
    "# linear_search(mylist, 10)"
   ]
  },
  {
   "cell_type": "markdown",
   "metadata": {},
   "source": [
    "#### 2.2 Binary Search: require a sorted list\n",
    "\n",
    "- check for the value in the middle of the list\n",
    "- repeatedly discard the half of the list that definitely does not contain the element we are searching for"
   ]
  },
  {
   "cell_type": "code",
   "execution_count": 15,
   "metadata": {},
   "outputs": [],
   "source": [
    "def binary_search(sorted_list, element):\n",
    "    print(\"Input list is {0}\".format(sorted_list))\n",
    "    print(\"Input size is {0}\".format(len(sorted_list)))\n",
    "    middle = len(sorted_list)//2\n",
    "    median = sorted_list[middle]\n",
    "    if len(sorted_list) <= 1:\n",
    "        if element == median:\n",
    "            return median\n",
    "        else:\n",
    "            return 'No such element'\n",
    "    if element < median:\n",
    "        left = sorted_list[0:middle]\n",
    "        return binary_search(sorted_list = left, element = element)\n",
    "    else: \n",
    "        right = sorted_list[middle:]\n",
    "        return binary_search(sorted_list = right, element = element)"
   ]
  },
  {
   "cell_type": "code",
   "execution_count": 16,
   "metadata": {},
   "outputs": [],
   "source": [
    "mylist = range(0, 1000, 2) # list is all even numbers between 0 and 1000"
   ]
  },
  {
   "cell_type": "code",
   "execution_count": 17,
   "metadata": {},
   "outputs": [
    {
     "name": "stdout",
     "output_type": "stream",
     "text": [
      "Input list is range(0, 1000, 2)\n",
      "Input size is 500\n",
      "Input list is range(0, 500, 2)\n",
      "Input size is 250\n",
      "Input list is range(0, 250, 2)\n",
      "Input size is 125\n",
      "Input list is range(0, 124, 2)\n",
      "Input size is 62\n",
      "Input list is range(62, 124, 2)\n",
      "Input size is 31\n",
      "Input list is range(62, 92, 2)\n",
      "Input size is 15\n",
      "Input list is range(62, 76, 2)\n",
      "Input size is 7\n",
      "Input list is range(68, 76, 2)\n",
      "Input size is 4\n",
      "Input list is range(72, 76, 2)\n",
      "Input size is 2\n",
      "Input list is range(72, 74, 2)\n",
      "Input size is 1\n"
     ]
    },
    {
     "data": {
      "text/plain": [
       "72"
      ]
     },
     "execution_count": 17,
     "metadata": {},
     "output_type": "execute_result"
    }
   ],
   "source": [
    "binary_search(mylist, 72)\n",
    "# binary_search(mylist, 71)"
   ]
  },
  {
   "cell_type": "markdown",
   "metadata": {},
   "source": [
    "#### Part 3. Sorting Algorithms: Order the values from a list\n",
    "\n",
    "There are many other sorting algorithms. \n",
    "\n",
    "In the lecture we will only cover selection sort and bogo sort. \n",
    "\n",
    "Source: https://python-textbok.readthedocs.io/en/1.0/Sorting_and_Searching_Algorithms.html"
   ]
  },
  {
   "cell_type": "markdown",
   "metadata": {},
   "source": [
    "#### 3.1 Selection Sort: repeated selection of the smallest item\n",
    "\n",
    "- Find minimum of the unsorted list\n",
    "- Remove minimum and place it in first element on new list\n",
    "- Repeat until unsorted list is empty"
   ]
  },
  {
   "cell_type": "code",
   "execution_count": 18,
   "metadata": {},
   "outputs": [
    {
     "data": {
      "text/plain": [
       "[0, 1, 2, 3, 4, 5, 6, 7, 8, 9]"
      ]
     },
     "execution_count": 18,
     "metadata": {},
     "output_type": "execute_result"
    }
   ],
   "source": [
    "my_numbers = [1, 9, 8, 5, 4, 6, 0, 2, 3, 7]\n",
    "\n",
    "def selection_sort(numbers):\n",
    "    numbers = numbers.copy()  # to not modify the original input\n",
    "    answer = [] # answer object\n",
    "    while len(numbers) > 0:\n",
    "        answer.append(min(numbers)) # append to the answers list\n",
    "        del numbers[numbers.index(answer[-1])] # delete it from the list\n",
    "    return answer\n",
    "\n",
    "selection_sort(numbers = my_numbers)"
   ]
  },
  {
   "cell_type": "markdown",
   "metadata": {},
   "source": [
    "#### 3.2 Bogo Sort\n",
    "\n",
    "- Randomize the order of all elements in a list\n",
    "    - If sorted: Great! \n",
    "    - If not sorted: randomize again\n",
    "- Very silly, very inefficient, just created for fun"
   ]
  },
  {
   "cell_type": "code",
   "execution_count": 19,
   "metadata": {},
   "outputs": [],
   "source": [
    "my_numbers2 = [8, 2, 1, 3, 4]\n",
    "\n",
    "def bogo_sort(numbers):\n",
    "    n = 0\n",
    "    answer = numbers.copy() \n",
    "    while answer != sorted(numbers):\n",
    "      random.shuffle(answer)\n",
    "      n += 1 \n",
    "      steps = n\n",
    "    return answer, steps"
   ]
  },
  {
   "cell_type": "code",
   "execution_count": 20,
   "metadata": {},
   "outputs": [
    {
     "data": {
      "text/plain": [
       "([1, 2, 3, 4, 8], 29)"
      ]
     },
     "execution_count": 20,
     "metadata": {},
     "output_type": "execute_result"
    }
   ],
   "source": [
    "bogo_sort(my_numbers2)"
   ]
  },
  {
   "cell_type": "markdown",
   "metadata": {},
   "source": [
    "#### Part 4. Time Complexity: how the number of steps required depends on the size of the input\n",
    "\n",
    "- The amount of time/the number of operations need to complete a task.\n",
    "- Commonly express the number of elements using `n`\n",
    "\n",
    "\n",
    "O(n) notation:\n",
    "  - Big-O notation is a relative representation of the complexity of an algorithm.\n",
    "  - Classify algorithms according to how their running time or space requirements grow as the input size\n",
    "  - Informally, we can think of the Big-O notation as the run time in the worst case scenario \n",
    "\n",
    "See Towards Data Science for more information on the Big O notation: https://bit.ly/3iYs4kb \n",
    "\n",
    "Another good resource: https://www.freecodecamp.org/news/big-o-notation-why-it-matters-and-why-it-doesnt-1674cfa8a23c/\n"
   ]
  },
  {
   "cell_type": "code",
   "execution_count": null,
   "metadata": {},
   "outputs": [],
   "source": [
    "#       Name        Time Complexity\n",
    "\n",
    "#   Constant Time         O(1)\n",
    "# Logarithmic Time      O(log n)\n",
    "#    Linear Time          O(n)\n",
    "# Quasilinear Time     O(n log n)\n",
    "#  Quadratic Time        O(n^2)\n",
    "# Exponential Time       O(2^n)\n",
    "#  Factorial Time         O(n!) "
   ]
  },
  {
   "cell_type": "code",
   "execution_count": 21,
   "metadata": {},
   "outputs": [],
   "source": [
    "s = [i for i in range(10)] # short list\n",
    "l = [i for i in range(1000)] # long list\n"
   ]
  },
  {
   "cell_type": "markdown",
   "metadata": {},
   "source": [
    "#### 4.1 Constant Time O(1)"
   ]
  },
  {
   "cell_type": "code",
   "execution_count": 22,
   "metadata": {},
   "outputs": [],
   "source": [
    "# Independent of the size of x\n",
    "def o_1(x):\n",
    "    out = x[5]\n",
    "    return out"
   ]
  },
  {
   "cell_type": "code",
   "execution_count": 23,
   "metadata": {},
   "outputs": [
    {
     "data": {
      "text/plain": [
       "5"
      ]
     },
     "execution_count": 23,
     "metadata": {},
     "output_type": "execute_result"
    }
   ],
   "source": [
    "o_1(s)\n",
    "# o_1(l)"
   ]
  },
  {
   "cell_type": "markdown",
   "metadata": {},
   "source": [
    "#### 4.2 Linear Time O(n)"
   ]
  },
  {
   "cell_type": "code",
   "execution_count": 24,
   "metadata": {},
   "outputs": [],
   "source": [
    "# Linearly increases with the size of x\n",
    "def o_n(x):\n",
    "    for i in range(len(x)):\n",
    "        x[i] += 1 \n",
    "        return x"
   ]
  },
  {
   "cell_type": "code",
   "execution_count": 25,
   "metadata": {},
   "outputs": [
    {
     "data": {
      "text/plain": [
       "[1, 1, 2, 3, 4, 5, 6, 7, 8, 9]"
      ]
     },
     "execution_count": 25,
     "metadata": {},
     "output_type": "execute_result"
    }
   ],
   "source": [
    "o_n(s)\n",
    "# o_n(l)"
   ]
  },
  {
   "cell_type": "markdown",
   "metadata": {},
   "source": [
    "#### 4.3 Quadratic Time O(n^2)"
   ]
  },
  {
   "cell_type": "code",
   "execution_count": 26,
   "metadata": {},
   "outputs": [],
   "source": [
    "# increases at a rate of x^2 for each additional \n",
    "# item we add to x since we loop twice\n",
    "\n",
    "def o_nsqr(x): \n",
    "    out = []\n",
    "    for i in range(len(x)): \n",
    "        for j in range(len(x)): \n",
    "          out.append(i + j)\n",
    "    return out"
   ]
  },
  {
   "cell_type": "code",
   "execution_count": 27,
   "metadata": {},
   "outputs": [
    {
     "data": {
      "text/plain": [
       "[0,\n",
       " 1,\n",
       " 2,\n",
       " 3,\n",
       " 4,\n",
       " 5,\n",
       " 6,\n",
       " 7,\n",
       " 8,\n",
       " 9,\n",
       " 1,\n",
       " 2,\n",
       " 3,\n",
       " 4,\n",
       " 5,\n",
       " 6,\n",
       " 7,\n",
       " 8,\n",
       " 9,\n",
       " 10,\n",
       " 2,\n",
       " 3,\n",
       " 4,\n",
       " 5,\n",
       " 6,\n",
       " 7,\n",
       " 8,\n",
       " 9,\n",
       " 10,\n",
       " 11,\n",
       " 3,\n",
       " 4,\n",
       " 5,\n",
       " 6,\n",
       " 7,\n",
       " 8,\n",
       " 9,\n",
       " 10,\n",
       " 11,\n",
       " 12,\n",
       " 4,\n",
       " 5,\n",
       " 6,\n",
       " 7,\n",
       " 8,\n",
       " 9,\n",
       " 10,\n",
       " 11,\n",
       " 12,\n",
       " 13,\n",
       " 5,\n",
       " 6,\n",
       " 7,\n",
       " 8,\n",
       " 9,\n",
       " 10,\n",
       " 11,\n",
       " 12,\n",
       " 13,\n",
       " 14,\n",
       " 6,\n",
       " 7,\n",
       " 8,\n",
       " 9,\n",
       " 10,\n",
       " 11,\n",
       " 12,\n",
       " 13,\n",
       " 14,\n",
       " 15,\n",
       " 7,\n",
       " 8,\n",
       " 9,\n",
       " 10,\n",
       " 11,\n",
       " 12,\n",
       " 13,\n",
       " 14,\n",
       " 15,\n",
       " 16,\n",
       " 8,\n",
       " 9,\n",
       " 10,\n",
       " 11,\n",
       " 12,\n",
       " 13,\n",
       " 14,\n",
       " 15,\n",
       " 16,\n",
       " 17,\n",
       " 9,\n",
       " 10,\n",
       " 11,\n",
       " 12,\n",
       " 13,\n",
       " 14,\n",
       " 15,\n",
       " 16,\n",
       " 17,\n",
       " 18]"
      ]
     },
     "execution_count": 27,
     "metadata": {},
     "output_type": "execute_result"
    }
   ],
   "source": [
    "o_nsqr(s)\n",
    "# o_nsqr(l)"
   ]
  },
  {
   "cell_type": "markdown",
   "metadata": {},
   "source": [
    "#### 4.4 Exponential Time O(2^n)"
   ]
  },
  {
   "cell_type": "code",
   "execution_count": 28,
   "metadata": {},
   "outputs": [],
   "source": [
    "# for every increase in x, we are creating\n",
    "# many more recurisons\n",
    "def fib(x): \n",
    "  if x <= 1: \n",
    "      return x\n",
    "  return fib(x - 1) + fib(x - 2)"
   ]
  },
  {
   "cell_type": "code",
   "execution_count": 29,
   "metadata": {},
   "outputs": [
    {
     "data": {
      "text/plain": [
       "55"
      ]
     },
     "execution_count": 29,
     "metadata": {},
     "output_type": "execute_result"
    }
   ],
   "source": [
    "fib(10)\n",
    "# fib(35)"
   ]
  },
  {
   "cell_type": "markdown",
   "metadata": {},
   "source": [
    "#### Part 5. Simple Plotting in Python\n",
    "\n",
    "Graphically representing the time complexity.\n",
    "\n",
    "- You can use `matplotlib` to create plots\n",
    "- Use `seaborn` to make your plots prettier"
   ]
  },
  {
   "cell_type": "code",
   "execution_count": 30,
   "metadata": {},
   "outputs": [
    {
     "name": "stdout",
     "output_type": "stream",
     "text": [
      "Requirement already satisfied: matplotlib in /Users/mac/opt/anaconda3/lib/python3.8/site-packages (3.3.2)\n",
      "Requirement already satisfied: certifi>=2020.06.20 in /Users/mac/opt/anaconda3/lib/python3.8/site-packages (from matplotlib) (2023.7.22)\n",
      "Requirement already satisfied: cycler>=0.10 in /Users/mac/opt/anaconda3/lib/python3.8/site-packages (from matplotlib) (0.10.0)\n",
      "Requirement already satisfied: kiwisolver>=1.0.1 in /Users/mac/opt/anaconda3/lib/python3.8/site-packages (from matplotlib) (1.3.0)\n",
      "Requirement already satisfied: numpy>=1.15 in /Users/mac/opt/anaconda3/lib/python3.8/site-packages (from matplotlib) (1.19.2)\n",
      "Requirement already satisfied: pillow>=6.2.0 in /Users/mac/opt/anaconda3/lib/python3.8/site-packages (from matplotlib) (8.0.1)\n",
      "Requirement already satisfied: pyparsing!=2.0.4,!=2.1.2,!=2.1.6,>=2.0.3 in /Users/mac/opt/anaconda3/lib/python3.8/site-packages (from matplotlib) (2.4.7)\n",
      "Requirement already satisfied: python-dateutil>=2.1 in /Users/mac/opt/anaconda3/lib/python3.8/site-packages (from matplotlib) (2.8.1)\n",
      "Requirement already satisfied: six in /Users/mac/opt/anaconda3/lib/python3.8/site-packages (from cycler>=0.10->matplotlib) (1.15.0)\n",
      "\u001b[33mDEPRECATION: pyodbc 4.0.0-unsupported has a non-standard version number. pip 23.3 will enforce this behaviour change. A possible replacement is to upgrade to a newer version of pyodbc or contact the author to suggest that they release a version with a conforming version number. Discussion can be found at https://github.com/pypa/pip/issues/12063\u001b[0m\u001b[33m\n",
      "\u001b[0m"
     ]
    }
   ],
   "source": [
    "# !pip3 install matplotlib"
   ]
  },
  {
   "cell_type": "code",
   "execution_count": 38,
   "metadata": {},
   "outputs": [],
   "source": [
    "import matplotlib.pyplot as plt\n",
    "import math\n",
    "import numpy as np\n",
    "# import array\n",
    "\n",
    "n = list(range(1, 11))\n",
    "O1 = [1 for i in n]\n",
    "OLogN = [math.log(i) for i in n]\n",
    "OnLogN = [i * math.log(i) for i in n]\n",
    "On2 = [i * 2 for i in n]\n",
    "O2n = [2 ** i for i in n]\n",
    "OnF = [math.factorial(i) for i in n]"
   ]
  },
  {
   "cell_type": "code",
   "execution_count": 34,
   "metadata": {},
   "outputs": [
    {
     "data": {
      "image/png": "[encoded data removed]",
      "text/plain": [
       "<Figure size 432x288 with 1 Axes>"
      ]
     },
     "metadata": {
      "needs_background": "light"
     },
     "output_type": "display_data"
    }
   ],
   "source": [
    "plt.plot(n, O1, 'r-', label = \"O(1)\")\n",
    "plt.plot(n, OLogN, 'b-', label = \"O(Log n)\")\n",
    "plt.plot(n, OnLogN, 'g-', label = \"O(n Log n )\")\n",
    "plt.plot(n, On2, 'y-', label = \"O(2n)\")\n",
    "plt.plot(n, O2n, 'm-', label = \"O(n^2)\")\n",
    "plt.plot(n, OnF, 'k-', label = \"O(n!)\")\n",
    "plt.xlim(1, 10)\n",
    "plt.ylim(1, 100)\n",
    "plt.xlabel('N')\n",
    "plt.ylabel('Big O')\n",
    "plt.legend()\n",
    "plt.show()"
   ]
  },
  {
   "cell_type": "code",
   "execution_count": 40,
   "metadata": {},
   "outputs": [
    {
     "data": {
      "text/plain": [
       "Text(0.2, 0.05, '\\nMaybe a description here\\n')"
      ]
     },
     "execution_count": 40,
     "metadata": {},
     "output_type": "execute_result"
    },
    {
     "data": {
      "image/png": "[encoded data removed]",
      "text/plain": [
       "<Figure size 432x288 with 1 Axes>"
      ]
     },
     "metadata": {
      "needs_background": "light"
     },
     "output_type": "display_data"
    }
   ],
   "source": [
    "# x-axis: # of elements in list\n",
    "x1 = range(1, 101) \n",
    "x2 = range(1, 101) \n",
    "# y-axis: time\n",
    "y1 = range(1, 101) \n",
    "y2 = [i * 0.5 for i in range(1, 101)]\n",
    "\n",
    "# adjust the area around the plot\n",
    "plt.subplots_adjust(left = .13, right = .95, top = .9, bottom = .3)\n",
    "# Plot the data\n",
    "plt.plot(x1, y1)\n",
    "plt.plot(x2, y2)\n",
    "\n",
    "# Add a legend\n",
    "plt.legend(['1', '2'], loc = \"upper left\", prop = {\"size\":10})\n",
    "# y label\n",
    "plt.ylabel(\"Y\")\n",
    "# x label\n",
    "plt.xlabel(\"X\")\n",
    "# plot title\n",
    "plt.title(\"The Effect of Different Sort Algorithms on Runtime\")\n",
    "# plot description\n",
    "txt = \"\"\"\n",
    "Maybe a description here\n",
    "\"\"\"\n",
    "plt.figtext(.2, .05, txt, fontsize = 10, ha = \"center\")\n",
    "\n",
    "# Save plot\n",
    "# plt.savefig('/Users/ysui/Desktop/PhD/MTE/pythoncamp2023_prep/Day08/Lecture/plot.pdf')"
   ]
  },
  {
   "cell_type": "code",
   "execution_count": null,
   "metadata": {},
   "outputs": [],
   "source": [
    "# Copyright of the original version:\n",
    "\n",
    "# Copyright (c) 2014 Matt Dickenson\n",
    "# \n",
    "# Permission is hereby granted, free of charge, to any person obtaining a copy\n",
    "# of this software and associated documentation files (the \"Software\"), to deal\n",
    "# in the Software without restriction, including without limitation the rights\n",
    "# to use, copy, modify, merge, publish, distribute, sublicense, and/or sell\n",
    "# copies of the Software, and to permit persons to whom the Software is\n",
    "# furnished to do so, subject to the following conditions:\n",
    "# \n",
    "# The above copyright notice and this permission notice shall be included in all\n",
    "# copies or substantial portions of the Software.\n",
    "# \n",
    "# THE SOFTWARE IS PROVIDED \"AS IS\", WITHOUT WARRANTY OF ANY KIND, EXPRESS OR\n",
    "# IMPLIED, INCLUDING BUT NOT LIMITED TO THE WARRANTIES OF MERCHANTABILITY,\n",
    "# FITNESS FOR A PARTICULAR PURPOSE AND NONINFRINGEMENT. IN NO EVENT SHALL THE\n",
    "# AUTHORS OR COPYRIGHT HOLDERS BE LIABLE FOR ANY CLAIM, DAMAGES OR OTHER\n",
    "# LIABILITY, WHETHER IN AN ACTION OF CONTRACT, TORT OR OTHERWISE, ARISING FROM,\n",
    "# OUT OF OR IN CONNECTION WITH THE SOFTWARE OR THE USE OR OTHER DEALINGS IN THE\n",
    "# SOFTWARE."
   ]
  },
  {
   "cell_type": "code",
   "execution_count": null,
   "metadata": {},
   "outputs": [],
   "source": []
  }
 ],
 "metadata": {
  "kernelspec": {
   "display_name": "base",
   "language": "python",
   "name": "python3"
  },
  "language_info": {
   "codemirror_mode": {
    "name": "ipython",
    "version": 3
   },
   "file_extension": ".py",
   "mimetype": "text/x-python",
   "name": "python",
   "nbconvert_exporter": "python",
   "pygments_lexer": "ipython3",
   "version": "3.8.5"
  },
  "orig_nbformat": 4
 },
 "nbformat": 4,
 "nbformat_minor": 2
}
