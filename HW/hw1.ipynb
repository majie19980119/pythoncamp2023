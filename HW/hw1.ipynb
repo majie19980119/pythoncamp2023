{
 "cells": [
  {
   "cell_type": "code",
   "execution_count": 148,
   "metadata": {},
   "outputs": [],
   "source": [
    "import random"
   ]
  },
  {
   "cell_type": "code",
   "execution_count": 221,
   "metadata": {},
   "outputs": [],
   "source": [
    "class Protofolio():\n",
    "    def __init__(self,cash, stock,fund): \n",
    "        self.cash = cash\n",
    "        self.stock = stock\n",
    "        self.fund = fund\n",
    " \n",
    "\n",
    "    def addCash(self,cash):\n",
    "        self.cash = self.cash + cash\n",
    "\n",
    "    def withdrawCash(self,cash):\n",
    "        self.addCash(-1*cash)\n",
    "\n",
    "    # first part done\n",
    "\n",
    "    def buyStock(self,share,stock): \n",
    "        if share %1 ==0:\n",
    "           self.cash = self.cash -share*stock.price\n",
    "           self.stock = self.stock + share \n",
    "        else:\n",
    "            return print('Not a valid option.')\n",
    "\n",
    "    \n",
    "    def sellStock(self,symbol,share):\n",
    "        if share %1 ==0:\n",
    "           markup = random.uniform(0.5,1.5)\n",
    "           self.cash = self.cash + markup*share*s.price \n",
    "           self.stock = self.stock - share \n",
    "        else:\n",
    "            return print('Not a valid option.')\n",
    "\n",
    "\n",
    "    def buyMutualFund(self, share, fund):\n",
    "        if share %1 !=0:\n",
    "           self.cash = self.cash - share\n",
    "           self.fund=self.fund + share\n",
    "        else:\n",
    "            return print('Not a valid option.')\n",
    "        \n",
    "\n",
    "    def sellMutualFund(self, fund, share):\n",
    "        if share %1 !=0:\n",
    "           markup = random.uniform(0.9,1.2)\n",
    "           self.cash = self.cash + share*markup\n",
    "           self.fund=self.fund - share\n",
    "        else:\n",
    "            return print('Not a valid option.')\n",
    "\n",
    "\n",
    "class Stock():\n",
    "    def __init__(self, price, symbol):\n",
    "        self.price = price\n",
    "        self.symbol = symbol\n",
    "\n",
    "class MutualFund():\n",
    "    def __init__(self, name):\n",
    "        self.name = name\n",
    "        self.uni = 1\n",
    "\n",
    "\n",
    "\n"
   ]
  },
  {
   "cell_type": "code",
   "execution_count": 222,
   "metadata": {},
   "outputs": [
    {
     "name": "stdout",
     "output_type": "stream",
     "text": [
      "-5\n",
      "10.3\n",
      "-15.3\n",
      "0.0\n",
      "-5.835209932637399\n",
      "10\n",
      "-205.8352099326374\n",
      "0\n",
      "45.60246740087868\n"
     ]
    }
   ],
   "source": [
    "# questions remain to be solved:\n",
    "# 1 get the history of all instances: append to self.history after every operation?\n",
    "# 2 how to map attributes back to objects?\n",
    "\n",
    "\n",
    "# let's test\n",
    "test = Protofolio(cash= 0, stock= 0, fund = 0)\n",
    "test.addCash(5)\n",
    "test.withdrawCash(10)\n",
    "print(test.cash)\n",
    "\n",
    "test.buyMutualFund(10.3,mf1)\n",
    "print(test.fund)\n",
    "print(test.cash)\n",
    "\n",
    "test.sellMutualFund(\"BRT\",10.3)\n",
    "print(test.fund)\n",
    "print(test.cash)\n",
    "\n",
    "test.buyStock(10,s)\n",
    "print(test.stock)\n",
    "print(test.cash)\n",
    "\n",
    "test.sellStock(\"HFH\",10)\n",
    "print(test.stock)\n",
    "print(test.cash)\n",
    "\n"
   ]
  },
  {
   "cell_type": "code",
   "execution_count": 223,
   "metadata": {},
   "outputs": [
    {
     "name": "stdout",
     "output_type": "stream",
     "text": [
      "20\n",
      "BRT\n",
      "GHT\n"
     ]
    }
   ],
   "source": [
    "s = Stock(20,\"HFH\")\n",
    "print(s.price)\n",
    "\n",
    "mf1 = MutualFund(\"BRT\")\n",
    "mf2 = MutualFund(\"GHT\")\n",
    "print(mf1.name)\n",
    "print(mf2.name)\n"
   ]
  },
  {
   "cell_type": "code",
   "execution_count": 224,
   "metadata": {},
   "outputs": [
    {
     "data": {
      "text/plain": [
       "0.626995749345242"
      ]
     },
     "execution_count": 224,
     "metadata": {},
     "output_type": "execute_result"
    }
   ],
   "source": [
    "random.uniform(0.5,1.5)"
   ]
  }
 ],
 "metadata": {
  "kernelspec": {
   "display_name": "base",
   "language": "python",
   "name": "python3"
  },
  "language_info": {
   "codemirror_mode": {
    "name": "ipython",
    "version": 3
   },
   "file_extension": ".py",
   "mimetype": "text/x-python",
   "name": "python",
   "nbconvert_exporter": "python",
   "pygments_lexer": "ipython3",
   "version": "3.8.5"
  },
  "orig_nbformat": 4
 },
 "nbformat": 4,
 "nbformat_minor": 2
}
