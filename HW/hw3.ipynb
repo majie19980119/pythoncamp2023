{
 "cells": [
  {
   "cell_type": "markdown",
   "metadata": {},
   "source": [
    "Q1 solution"
   ]
  },
  {
   "cell_type": "code",
   "execution_count": 248,
   "metadata": {},
   "outputs": [],
   "source": [
    "client_id = 'c3b422c920e940fb98a1a6561e045bf7'\n",
    "client_secret = '92a3ff18c2bb44f18940e9e36e5bad01'"
   ]
  },
  {
   "cell_type": "code",
   "execution_count": 249,
   "metadata": {},
   "outputs": [],
   "source": [
    "import spotipy\n",
    "from spotipy.oauth2 import SpotifyClientCredentials"
   ]
  },
  {
   "cell_type": "code",
   "execution_count": 250,
   "metadata": {},
   "outputs": [],
   "source": [
    "spotify = spotipy.Spotify(client_credentials_manager=SpotifyClientCredentials(client_id=client_id,\n",
    "                                                                              client_secret=client_secret))"
   ]
  },
  {
   "cell_type": "code",
   "execution_count": 251,
   "metadata": {},
   "outputs": [
    {
     "data": {
      "text/plain": [
       "'1uAOCTevGnyKIDbgZdOCnE'"
      ]
     },
     "execution_count": 251,
     "metadata": {},
     "output_type": "execute_result"
    }
   ],
   "source": [
    "tracks_url='https://open.spotify.com/playlist/0mhTJOr2GHvDdPtAwl8TtS?si=5d16857f2c284dfa&nd=1'\n",
    "results = spotify.playlist_items(playlist_id=tracks_url)\n",
    "songs = results['items']\n",
    "len(songs) #41\n",
    "\n",
    "songs[0]['track']['artists'][0]['name'] #'Barbara Pravi'\n",
    "songs[0]['track']['name'] # 'Voilà'\n",
    "songs[0]['track']['id'] #'1uAOCTevGnyKIDbgZdOCnE'\n"
   ]
  },
  {
   "cell_type": "code",
   "execution_count": 252,
   "metadata": {},
   "outputs": [
    {
     "name": "stdout",
     "output_type": "stream",
     "text": [
      "0.89\n",
      "0.955\n",
      "RUSSIAN WOMAN\n",
      "Dark Side\n",
      "Manizha\n",
      "Blind Channel\n"
     ]
    }
   ],
   "source": [
    "output={'song':[],'artist':[], 'danceability':[], 'energy':[]}\n",
    "\n",
    "for i in range(0,len(songs)):\n",
    "  tracks_i = spotify.audio_features(songs[i]['track']['id'])\n",
    "  output['song'].append(songs[i]['track']['name'])\n",
    "  output['artist'].append(songs[i]['track']['artists'][0]['name'])\n",
    "  output['danceability'].append(tracks_i[0]['danceability'])\n",
    "  output['energy'].append(tracks_i[0]['energy'])\n",
    "\n",
    "print(max(output['danceability']))\n",
    "print(max(output['energy']))\n",
    "index1 = output['danceability'].index(max(output['danceability'])) #34\n",
    "index2= output['energy'].index(max(output['energy']))  #3\n",
    "\n",
    "\n",
    "print(output['song'][index1]) #RUSSIAN WOMAN\n",
    "print(output['song'][index2]) #Dark Side\n",
    "print(output['artist'][index1]) #Manizha\n",
    "print(output['artist'][index2]) #Blind Channel\n",
    "\n",
    "\n"
   ]
  },
  {
   "cell_type": "markdown",
   "metadata": {},
   "source": [
    "Q2 solution"
   ]
  },
  {
   "cell_type": "code",
   "execution_count": 253,
   "metadata": {},
   "outputs": [],
   "source": [
    "#pip install requests\n",
    "import requests"
   ]
  },
  {
   "cell_type": "code",
   "execution_count": 254,
   "metadata": {},
   "outputs": [
    {
     "data": {
      "text/plain": [
       "'H'"
      ]
     },
     "execution_count": 254,
     "metadata": {},
     "output_type": "execute_result"
    }
   ],
   "source": [
    "api_key ='ZEZvIyCFbhHoB356MLmWCcugfyuGFDGIsNmtGs6S'\n",
    "base_url='https://api.open.fec.gov/v1/'\n",
    "\n",
    "# Define query parameters\n",
    "state = 'MO'  # Missouri\n",
    "office_house = 'H'  # Federal House\n",
    "office_senate = 'S'  # Federal Senate\n",
    "\n",
    "# Construct API endpoints for House and Senate candidates\n",
    "endpoint_house = f'candidates/?state={state}&office={office_house}&api_key={api_key}'\n",
    "endpoint_senate = f'candidates/?state={state}&office={office_senate}&api_key={api_key}'\n",
    "\n",
    "# Make API requests for House and Senate candidates\n",
    "response_house = requests.get(base_url + endpoint_house)\n",
    "response_senate = requests.get(base_url + endpoint_senate)\n",
    "\n",
    "data_house = response_house.json()\n",
    "data_senate = response_senate.json()\n",
    "\n",
    "len(data_house['results']) #20\n",
    "len(data_senate['results']) #20\n",
    "\n",
    "data_house['results'][0]['candidate_id'] #'H2MO03043'\n",
    "data_house['results'][0]['name'] #'ABERNATHY, NED L.'\n",
    "data_house['results'][0]['party'] #'DEM'\n",
    "data_house['results'][0]['district'] #'03'\n",
    "data_house['results'][0]['office'] #'H'\n",
    "\n"
   ]
  },
  {
   "cell_type": "code",
   "execution_count": 255,
   "metadata": {},
   "outputs": [
    {
     "data": {
      "text/plain": [
       "40"
      ]
     },
     "execution_count": 255,
     "metadata": {},
     "output_type": "execute_result"
    }
   ],
   "source": [
    "output={'office':[],'candidate_id':[], 'name':[], 'party':[], 'district':[]}\n",
    "\n",
    "for i in range(0,20):\n",
    "  output['office'].append(data_house['results'][i]['office'])\n",
    "  output['candidate_id'].append(data_house['results'][i]['candidate_id'])\n",
    "  output['name'].append(data_house['results'][i]['name'])\n",
    "  output['party'].append(data_house['results'][i]['party'])\n",
    "  output['district'].append(data_house['results'][i]['district'])\n",
    "\n",
    "for i in range(0,20):\n",
    "  output['office'].append(data_senate['results'][i]['office'])\n",
    "  output['candidate_id'].append(data_senate['results'][i]['candidate_id'])\n",
    "  output['name'].append(data_senate['results'][i]['name'])\n",
    "  output['party'].append(data_senate['results'][i]['party'])\n",
    "  output['district'].append(data_senate['results'][i]['district'])\n",
    "\n",
    "\n",
    "len(output['office']) #40\n",
    "\n"
   ]
  },
  {
   "cell_type": "code",
   "execution_count": 272,
   "metadata": {},
   "outputs": [],
   "source": [
    "import pandas as pd"
   ]
  },
  {
   "cell_type": "code",
   "execution_count": 281,
   "metadata": {},
   "outputs": [
    {
     "data": {
      "text/html": [
       "<div>\n",
       "<style scoped>\n",
       "    .dataframe tbody tr th:only-of-type {\n",
       "        vertical-align: middle;\n",
       "    }\n",
       "\n",
       "    .dataframe tbody tr th {\n",
       "        vertical-align: top;\n",
       "    }\n",
       "\n",
       "    .dataframe thead th {\n",
       "        text-align: right;\n",
       "    }\n",
       "</style>\n",
       "<table border=\"1\" class=\"dataframe\">\n",
       "  <thead>\n",
       "    <tr style=\"text-align: right;\">\n",
       "      <th></th>\n",
       "      <th>candidate_id</th>\n",
       "      <th>name</th>\n",
       "      <th>party</th>\n",
       "      <th>district</th>\n",
       "    </tr>\n",
       "  </thead>\n",
       "  <tbody>\n",
       "    <tr>\n",
       "      <th>31</th>\n",
       "      <td>S8MO00319</td>\n",
       "      <td>BAUER, JEROME</td>\n",
       "      <td>GRE</td>\n",
       "      <td>00</td>\n",
       "    </tr>\n",
       "    <tr>\n",
       "      <th>24</th>\n",
       "      <td>S8MO00061</td>\n",
       "      <td>ALSUP, JOHN R</td>\n",
       "      <td>REP</td>\n",
       "      <td>00</td>\n",
       "    </tr>\n",
       "    <tr>\n",
       "      <th>22</th>\n",
       "      <td>S6MO00388</td>\n",
       "      <td>ALAM, RABBI MD</td>\n",
       "      <td>None</td>\n",
       "      <td>00</td>\n",
       "    </tr>\n",
       "    <tr>\n",
       "      <th>30</th>\n",
       "      <td>S6MO00370</td>\n",
       "      <td>BATSCHE, CHRISTOPHER MICHAEL</td>\n",
       "      <td>REP</td>\n",
       "      <td>00</td>\n",
       "    </tr>\n",
       "    <tr>\n",
       "      <th>27</th>\n",
       "      <td>S6MO00230</td>\n",
       "      <td>ASKEW, JAMES J</td>\n",
       "      <td>DEM</td>\n",
       "      <td>00</td>\n",
       "    </tr>\n",
       "    <tr>\n",
       "      <th>34</th>\n",
       "      <td>S4MO00250</td>\n",
       "      <td>BELL, WESLEY</td>\n",
       "      <td>DEM</td>\n",
       "      <td>00</td>\n",
       "    </tr>\n",
       "    <tr>\n",
       "      <th>39</th>\n",
       "      <td>S4MO00177</td>\n",
       "      <td>BONAR, RONALD CARL</td>\n",
       "      <td>DEM</td>\n",
       "      <td>00</td>\n",
       "    </tr>\n",
       "    <tr>\n",
       "      <th>36</th>\n",
       "      <td>S4MO00151</td>\n",
       "      <td>BERRY, CHARLES E</td>\n",
       "      <td>DEM</td>\n",
       "      <td>00</td>\n",
       "    </tr>\n",
       "    <tr>\n",
       "      <th>26</th>\n",
       "      <td>S4MO00037</td>\n",
       "      <td>ASHCROFT, JOHN D</td>\n",
       "      <td>REP</td>\n",
       "      <td>00</td>\n",
       "    </tr>\n",
       "    <tr>\n",
       "      <th>23</th>\n",
       "      <td>S2MO00775</td>\n",
       "      <td>ALLEN, ROBERT</td>\n",
       "      <td>REP</td>\n",
       "      <td>None</td>\n",
       "    </tr>\n",
       "    <tr>\n",
       "      <th>21</th>\n",
       "      <td>S2MO00635</td>\n",
       "      <td>ALAM, MD RABBI DR</td>\n",
       "      <td>DEM</td>\n",
       "      <td>00</td>\n",
       "    </tr>\n",
       "    <tr>\n",
       "      <th>20</th>\n",
       "      <td>S2MO00429</td>\n",
       "      <td>AKIN, W TODD</td>\n",
       "      <td>REP</td>\n",
       "      <td>00</td>\n",
       "    </tr>\n",
       "    <tr>\n",
       "      <th>28</th>\n",
       "      <td>S2MO00379</td>\n",
       "      <td>BABBITT, SCOTT CRAIG</td>\n",
       "      <td>REP</td>\n",
       "      <td>00</td>\n",
       "    </tr>\n",
       "    <tr>\n",
       "      <th>38</th>\n",
       "      <td>S2MO00338</td>\n",
       "      <td>BOJARSKI, JEANNE F</td>\n",
       "      <td>LIB</td>\n",
       "      <td>00</td>\n",
       "    </tr>\n",
       "    <tr>\n",
       "      <th>35</th>\n",
       "      <td>S2MO00163</td>\n",
       "      <td>BERNSTEIN, MERTON</td>\n",
       "      <td>DEM</td>\n",
       "      <td>00</td>\n",
       "    </tr>\n",
       "    <tr>\n",
       "      <th>25</th>\n",
       "      <td>S2MO00064</td>\n",
       "      <td>ARNOLD, BURLEIGH</td>\n",
       "      <td>DEM</td>\n",
       "      <td>00</td>\n",
       "    </tr>\n",
       "    <tr>\n",
       "      <th>29</th>\n",
       "      <td>S0MO00399</td>\n",
       "      <td>BAILEY, CHARLIE L</td>\n",
       "      <td>NNE</td>\n",
       "      <td>00</td>\n",
       "    </tr>\n",
       "    <tr>\n",
       "      <th>33</th>\n",
       "      <td>S0MO00282</td>\n",
       "      <td>BELLER, RONALD</td>\n",
       "      <td>REP</td>\n",
       "      <td>00</td>\n",
       "    </tr>\n",
       "    <tr>\n",
       "      <th>32</th>\n",
       "      <td>S0MO00241</td>\n",
       "      <td>BECK, JERRY GARTH</td>\n",
       "      <td>REP</td>\n",
       "      <td>00</td>\n",
       "    </tr>\n",
       "    <tr>\n",
       "      <th>37</th>\n",
       "      <td>S0MO00183</td>\n",
       "      <td>BLUNT, ROY</td>\n",
       "      <td>REP</td>\n",
       "      <td>00</td>\n",
       "    </tr>\n",
       "    <tr>\n",
       "      <th>10</th>\n",
       "      <td>H8MO08072</td>\n",
       "      <td>ALLEN, JOSEPH WILLIAM</td>\n",
       "      <td>DEM</td>\n",
       "      <td>08</td>\n",
       "    </tr>\n",
       "    <tr>\n",
       "      <th>19</th>\n",
       "      <td>H8MO06134</td>\n",
       "      <td>ANDRES, EDWARD H</td>\n",
       "      <td>DEM</td>\n",
       "      <td>06</td>\n",
       "    </tr>\n",
       "    <tr>\n",
       "      <th>18</th>\n",
       "      <td>H8MO06126</td>\n",
       "      <td>ANDRES, ED</td>\n",
       "      <td>DEM</td>\n",
       "      <td>06</td>\n",
       "    </tr>\n",
       "    <tr>\n",
       "      <th>13</th>\n",
       "      <td>H8MO02109</td>\n",
       "      <td>AMELUNG, ROY C</td>\n",
       "      <td>REP</td>\n",
       "      <td>03</td>\n",
       "    </tr>\n",
       "    <tr>\n",
       "      <th>1</th>\n",
       "      <td>H6MO07086</td>\n",
       "      <td>ABRAMOVITZ, GEORGE E</td>\n",
       "      <td>DEM</td>\n",
       "      <td>07</td>\n",
       "    </tr>\n",
       "    <tr>\n",
       "      <th>16</th>\n",
       "      <td>H6MO02202</td>\n",
       "      <td>ANDERSON, PATRICK JOHN</td>\n",
       "      <td>DEM</td>\n",
       "      <td>02</td>\n",
       "    </tr>\n",
       "    <tr>\n",
       "      <th>9</th>\n",
       "      <td>H4MO07115</td>\n",
       "      <td>ALGER, STEVE</td>\n",
       "      <td>CST</td>\n",
       "      <td>07</td>\n",
       "    </tr>\n",
       "    <tr>\n",
       "      <th>6</th>\n",
       "      <td>H4MO05325</td>\n",
       "      <td>ALAO, SAMUEL AKINNIYI</td>\n",
       "      <td>REP</td>\n",
       "      <td>05</td>\n",
       "    </tr>\n",
       "    <tr>\n",
       "      <th>11</th>\n",
       "      <td>H4MO04039</td>\n",
       "      <td>ALLIS, ALAN E (GENE)</td>\n",
       "      <td>DEM</td>\n",
       "      <td>04</td>\n",
       "    </tr>\n",
       "    <tr>\n",
       "      <th>15</th>\n",
       "      <td>H4MO00029</td>\n",
       "      <td>ANDERSON, MATTHEW LEWIS</td>\n",
       "      <td>REP</td>\n",
       "      <td>00</td>\n",
       "    </tr>\n",
       "  </tbody>\n",
       "</table>\n",
       "</div>"
      ],
      "text/plain": [
       "   candidate_id                          name party district\n",
       "31    S8MO00319                 BAUER, JEROME   GRE       00\n",
       "24    S8MO00061                 ALSUP, JOHN R   REP       00\n",
       "22    S6MO00388                ALAM, RABBI MD  None       00\n",
       "30    S6MO00370  BATSCHE, CHRISTOPHER MICHAEL   REP       00\n",
       "27    S6MO00230                ASKEW, JAMES J   DEM       00\n",
       "34    S4MO00250                  BELL, WESLEY   DEM       00\n",
       "39    S4MO00177            BONAR, RONALD CARL   DEM       00\n",
       "36    S4MO00151              BERRY, CHARLES E   DEM       00\n",
       "26    S4MO00037              ASHCROFT, JOHN D   REP       00\n",
       "23    S2MO00775                 ALLEN, ROBERT   REP     None\n",
       "21    S2MO00635             ALAM, MD RABBI DR   DEM       00\n",
       "20    S2MO00429                  AKIN, W TODD   REP       00\n",
       "28    S2MO00379          BABBITT, SCOTT CRAIG   REP       00\n",
       "38    S2MO00338            BOJARSKI, JEANNE F   LIB       00\n",
       "35    S2MO00163             BERNSTEIN, MERTON   DEM       00\n",
       "25    S2MO00064              ARNOLD, BURLEIGH   DEM       00\n",
       "29    S0MO00399             BAILEY, CHARLIE L   NNE       00\n",
       "33    S0MO00282                BELLER, RONALD   REP       00\n",
       "32    S0MO00241             BECK, JERRY GARTH   REP       00\n",
       "37    S0MO00183                    BLUNT, ROY   REP       00\n",
       "10    H8MO08072         ALLEN, JOSEPH WILLIAM   DEM       08\n",
       "19    H8MO06134              ANDRES, EDWARD H   DEM       06\n",
       "18    H8MO06126                    ANDRES, ED   DEM       06\n",
       "13    H8MO02109                AMELUNG, ROY C   REP       03\n",
       "1     H6MO07086          ABRAMOVITZ, GEORGE E   DEM       07\n",
       "16    H6MO02202        ANDERSON, PATRICK JOHN   DEM       02\n",
       "9     H4MO07115                  ALGER, STEVE   CST       07\n",
       "6     H4MO05325         ALAO, SAMUEL AKINNIYI   REP       05\n",
       "11    H4MO04039          ALLIS, ALAN E (GENE)   DEM       04\n",
       "15    H4MO00029       ANDERSON, MATTHEW LEWIS   REP       00"
      ]
     },
     "execution_count": 281,
     "metadata": {},
     "output_type": "execute_result"
    }
   ],
   "source": [
    "df = pd.DataFrame(output, columns = [\"office\", \"candidate_id\", \"name\", \"party\", \"district\"])\n",
    "df.head()\n",
    "df.sort_values(by = \"candidate_id\", ascending = False).iloc[0:30,1:5]"
   ]
  },
  {
   "cell_type": "code",
   "execution_count": null,
   "metadata": {},
   "outputs": [],
   "source": [
    "# similar as what we did in the last section\n",
    "# first get the data\n",
    "\n",
    "election_year = '2020'\n",
    "party = 'DEM'\n",
    "\n",
    "endpoint_contribution = f'schedules/schedule_a/?per_page=100&two_year_transaction_period={election_year}&party={party}&api_key={api_key}'\n",
    "response_contribution = requests.get(base_url + endpoint_contribution)\n",
    "data_contribution = response_contribution.json()"
   ]
  },
  {
   "cell_type": "code",
   "execution_count": null,
   "metadata": {},
   "outputs": [
    {
     "data": {
      "text/plain": [
       "40.0"
      ]
     },
     "execution_count": 218,
     "metadata": {},
     "output_type": "execute_result"
    }
   ],
   "source": [
    "# analyse\n",
    "\n",
    "data_contribution['results'][5]['contributor_state'] # 'OR'\n",
    "data_contribution['results'][5]['contribution_receipt_amount'] #40"
   ]
  },
  {
   "cell_type": "code",
   "execution_count": 438,
   "metadata": {},
   "outputs": [
    {
     "data": {
      "text/html": [
       "<div>\n",
       "<style scoped>\n",
       "    .dataframe tbody tr th:only-of-type {\n",
       "        vertical-align: middle;\n",
       "    }\n",
       "\n",
       "    .dataframe tbody tr th {\n",
       "        vertical-align: top;\n",
       "    }\n",
       "\n",
       "    .dataframe thead th {\n",
       "        text-align: right;\n",
       "    }\n",
       "</style>\n",
       "<table border=\"1\" class=\"dataframe\">\n",
       "  <thead>\n",
       "    <tr style=\"text-align: right;\">\n",
       "      <th></th>\n",
       "      <th>amount</th>\n",
       "    </tr>\n",
       "    <tr>\n",
       "      <th>state</th>\n",
       "      <th></th>\n",
       "    </tr>\n",
       "  </thead>\n",
       "  <tbody>\n",
       "    <tr>\n",
       "      <th>IL</th>\n",
       "      <td>3474.0</td>\n",
       "    </tr>\n",
       "    <tr>\n",
       "      <th>AL</th>\n",
       "      <td>1245.65</td>\n",
       "    </tr>\n",
       "    <tr>\n",
       "      <th>WI</th>\n",
       "      <td>60.0</td>\n",
       "    </tr>\n",
       "    <tr>\n",
       "      <th>CA</th>\n",
       "      <td>50.0</td>\n",
       "    </tr>\n",
       "    <tr>\n",
       "      <th>OR</th>\n",
       "      <td>40.0</td>\n",
       "    </tr>\n",
       "  </tbody>\n",
       "</table>\n",
       "</div>"
      ],
      "text/plain": [
       "        amount\n",
       "state         \n",
       "IL      3474.0\n",
       "AL     1245.65\n",
       "WI        60.0\n",
       "CA        50.0\n",
       "OR        40.0"
      ]
     },
     "execution_count": 438,
     "metadata": {},
     "output_type": "execute_result"
    }
   ],
   "source": [
    "output2={'state':[],'amount':[]}\n",
    "\n",
    "for i in range(0,100):\n",
    "  output2['state'].append(data_contribution['results'][i]['contributor_state'])\n",
    "  output2['amount'].append(data_contribution['results'][i]['contribution_receipt_amount'])\n",
    "\n",
    "output2\n",
    "df2 = pd.DataFrame(output2, columns = [\"state\", \"amount\"])\n",
    "df2.head()\n",
    "df2 = df2.dropna() # drop NAs\n",
    "final = df2.groupby(\"state\").sum().sort_values(by = \"amount\", ascending = False).iloc[0:5]\n",
    "\n",
    "final['amount'] = final['amount'].astype(str)\n",
    "final"
   ]
  },
  {
   "cell_type": "code",
   "execution_count": 356,
   "metadata": {},
   "outputs": [],
   "source": [
    "import re"
   ]
  },
  {
   "cell_type": "code",
   "execution_count": 364,
   "metadata": {},
   "outputs": [
    {
     "data": {
      "text/plain": [
       "['3474', '0']"
      ]
     },
     "execution_count": 364,
     "metadata": {},
     "output_type": "execute_result"
    }
   ],
   "source": [
    "re.split(\"\\.\", final['amount'][0]) #['3474', '0']"
   ]
  },
  {
   "cell_type": "code",
   "execution_count": 366,
   "metadata": {},
   "outputs": [
    {
     "data": {
      "text/plain": [
       "4"
      ]
     },
     "execution_count": 366,
     "metadata": {},
     "output_type": "execute_result"
    }
   ],
   "source": [
    "len(re.split(\"\\.\", final['amount'][0])[0]) #4 (exclude the dollar sign)"
   ]
  },
  {
   "cell_type": "code",
   "execution_count": 367,
   "metadata": {},
   "outputs": [
    {
     "data": {
      "text/plain": [
       "1"
      ]
     },
     "execution_count": 367,
     "metadata": {},
     "output_type": "execute_result"
    }
   ],
   "source": [
    "(len(re.split(\"\\.\", final['amount'][0])[0]))//3  #1\n",
    "(len(re.split(\"\\.\", final['amount'][0])[0]))%3   #1"
   ]
  },
  {
   "cell_type": "code",
   "execution_count": 422,
   "metadata": {},
   "outputs": [
    {
     "data": {
      "text/plain": [
       "'123,456,789,99'"
      ]
     },
     "execution_count": 422,
     "metadata": {},
     "output_type": "execute_result"
    }
   ],
   "source": [
    "# try a little bit...\n",
    "num =12345678999\n",
    "num = str(num)\n",
    "\n",
    "\n",
    "def sep(num):\n",
    "  num = num[::-1]\n",
    "  out = ''\n",
    "  for i in range(0,len(num)): \n",
    "    if (i+1)%3==0:\n",
    "      out = out+ \",\" + num[i]\n",
    "    else:\n",
    "      out = out+ num[i]\n",
    "  return out[::-1]\n",
    "\n",
    "sep(\"12345678999\")\n",
    "\n",
    "# create our own function sep() here to get the thousands separators\n",
    "\n"
   ]
  },
  {
   "cell_type": "code",
   "execution_count": 434,
   "metadata": {},
   "outputs": [
    {
     "data": {
      "text/html": [
       "<div>\n",
       "<style scoped>\n",
       "    .dataframe tbody tr th:only-of-type {\n",
       "        vertical-align: middle;\n",
       "    }\n",
       "\n",
       "    .dataframe tbody tr th {\n",
       "        vertical-align: top;\n",
       "    }\n",
       "\n",
       "    .dataframe thead th {\n",
       "        text-align: right;\n",
       "    }\n",
       "</style>\n",
       "<table border=\"1\" class=\"dataframe\">\n",
       "  <thead>\n",
       "    <tr style=\"text-align: right;\">\n",
       "      <th></th>\n",
       "      <th>amount</th>\n",
       "    </tr>\n",
       "    <tr>\n",
       "      <th>state</th>\n",
       "      <th></th>\n",
       "    </tr>\n",
       "  </thead>\n",
       "  <tbody>\n",
       "    <tr>\n",
       "      <th>IL</th>\n",
       "      <td>3474.0</td>\n",
       "    </tr>\n",
       "    <tr>\n",
       "      <th>AL</th>\n",
       "      <td>1245.65</td>\n",
       "    </tr>\n",
       "    <tr>\n",
       "      <th>WI</th>\n",
       "      <td>60.0</td>\n",
       "    </tr>\n",
       "    <tr>\n",
       "      <th>CA</th>\n",
       "      <td>50.0</td>\n",
       "    </tr>\n",
       "    <tr>\n",
       "      <th>OR</th>\n",
       "      <td>40.0</td>\n",
       "    </tr>\n",
       "  </tbody>\n",
       "</table>\n",
       "</div>"
      ],
      "text/plain": [
       "        amount\n",
       "state         \n",
       "IL      3474.0\n",
       "AL     1245.65\n",
       "WI        60.0\n",
       "CA        50.0\n",
       "OR        40.0"
      ]
     },
     "execution_count": 434,
     "metadata": {},
     "output_type": "execute_result"
    }
   ],
   "source": [
    "final\n"
   ]
  },
  {
   "cell_type": "code",
   "execution_count": 439,
   "metadata": {},
   "outputs": [
    {
     "data": {
      "text/html": [
       "<div>\n",
       "<style scoped>\n",
       "    .dataframe tbody tr th:only-of-type {\n",
       "        vertical-align: middle;\n",
       "    }\n",
       "\n",
       "    .dataframe tbody tr th {\n",
       "        vertical-align: top;\n",
       "    }\n",
       "\n",
       "    .dataframe thead th {\n",
       "        text-align: right;\n",
       "    }\n",
       "</style>\n",
       "<table border=\"1\" class=\"dataframe\">\n",
       "  <thead>\n",
       "    <tr style=\"text-align: right;\">\n",
       "      <th></th>\n",
       "      <th>amount</th>\n",
       "    </tr>\n",
       "    <tr>\n",
       "      <th>state</th>\n",
       "      <th></th>\n",
       "    </tr>\n",
       "  </thead>\n",
       "  <tbody>\n",
       "    <tr>\n",
       "      <th>IL</th>\n",
       "      <td>34,74.0</td>\n",
       "    </tr>\n",
       "    <tr>\n",
       "      <th>AL</th>\n",
       "      <td>12,45.65</td>\n",
       "    </tr>\n",
       "    <tr>\n",
       "      <th>WI</th>\n",
       "      <td>60.0</td>\n",
       "    </tr>\n",
       "    <tr>\n",
       "      <th>CA</th>\n",
       "      <td>50.0</td>\n",
       "    </tr>\n",
       "    <tr>\n",
       "      <th>OR</th>\n",
       "      <td>40.0</td>\n",
       "    </tr>\n",
       "  </tbody>\n",
       "</table>\n",
       "</div>"
      ],
      "text/plain": [
       "         amount\n",
       "state          \n",
       "IL      34,74.0\n",
       "AL     12,45.65\n",
       "WI         60.0\n",
       "CA         50.0\n",
       "OR         40.0"
      ]
     },
     "execution_count": 439,
     "metadata": {},
     "output_type": "execute_result"
    }
   ],
   "source": [
    "\n",
    "for i in range(0,4): \n",
    "  num = re.split(\"\\.\", final['amount'][i])[0]\n",
    "  final['amount'][i]=sep(num)+'.'+re.split(\"\\.\", final['amount'][i])[1]\n",
    "\n",
    "final\n",
    "    "
   ]
  },
  {
   "cell_type": "code",
   "execution_count": 440,
   "metadata": {},
   "outputs": [
    {
     "data": {
      "text/html": [
       "<div>\n",
       "<style scoped>\n",
       "    .dataframe tbody tr th:only-of-type {\n",
       "        vertical-align: middle;\n",
       "    }\n",
       "\n",
       "    .dataframe tbody tr th {\n",
       "        vertical-align: top;\n",
       "    }\n",
       "\n",
       "    .dataframe thead th {\n",
       "        text-align: right;\n",
       "    }\n",
       "</style>\n",
       "<table border=\"1\" class=\"dataframe\">\n",
       "  <thead>\n",
       "    <tr style=\"text-align: right;\">\n",
       "      <th></th>\n",
       "      <th>amount</th>\n",
       "    </tr>\n",
       "    <tr>\n",
       "      <th>state</th>\n",
       "      <th></th>\n",
       "    </tr>\n",
       "  </thead>\n",
       "  <tbody>\n",
       "    <tr>\n",
       "      <th>IL</th>\n",
       "      <td>$34,74.0</td>\n",
       "    </tr>\n",
       "    <tr>\n",
       "      <th>AL</th>\n",
       "      <td>$12,45.65</td>\n",
       "    </tr>\n",
       "    <tr>\n",
       "      <th>WI</th>\n",
       "      <td>$60.0</td>\n",
       "    </tr>\n",
       "    <tr>\n",
       "      <th>CA</th>\n",
       "      <td>$50.0</td>\n",
       "    </tr>\n",
       "    <tr>\n",
       "      <th>OR</th>\n",
       "      <td>$40.0</td>\n",
       "    </tr>\n",
       "  </tbody>\n",
       "</table>\n",
       "</div>"
      ],
      "text/plain": [
       "          amount\n",
       "state           \n",
       "IL      $34,74.0\n",
       "AL     $12,45.65\n",
       "WI         $60.0\n",
       "CA         $50.0\n",
       "OR         $40.0"
      ]
     },
     "execution_count": 440,
     "metadata": {},
     "output_type": "execute_result"
    }
   ],
   "source": [
    "final['amount'] = \"$\"+ final['amount'] #add dollar signs\n",
    "final"
   ]
  }
 ],
 "metadata": {
  "kernelspec": {
   "display_name": "base",
   "language": "python",
   "name": "python3"
  },
  "language_info": {
   "codemirror_mode": {
    "name": "ipython",
    "version": 3
   },
   "file_extension": ".py",
   "mimetype": "text/x-python",
   "name": "python",
   "nbconvert_exporter": "python",
   "pygments_lexer": "ipython3",
   "version": "3.8.5"
  },
  "orig_nbformat": 4
 },
 "nbformat": 4,
 "nbformat_minor": 2
}
