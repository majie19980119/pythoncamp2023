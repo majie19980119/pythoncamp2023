{
 "cells": [
  {
   "cell_type": "code",
   "execution_count": 2,
   "metadata": {},
   "outputs": [],
   "source": [
    "from bs4 import BeautifulSoup\n",
    "import urllib\n",
    "import csv\n",
    "import time\n",
    "import random\n",
    "import os\n",
    "import binascii"
   ]
  },
  {
   "cell_type": "code",
   "execution_count": 2,
   "metadata": {},
   "outputs": [],
   "source": [
    "os.chdir('/Users/mac/pythoncamp2023/HW')"
   ]
  },
  {
   "cell_type": "code",
   "execution_count": null,
   "metadata": {},
   "outputs": [],
   "source": [
    "https://onlinelibrary.wiley.com/doi/10.1111/ajps.12518\n",
    "https://onlinelibrary.wiley.com/doi/10.1111/ajps.12472\n",
    "\n",
    "https://onlinelibrary.wiley.com/doi/10.1111/ajps.12000"
   ]
  },
  {
   "cell_type": "code",
   "execution_count": null,
   "metadata": {},
   "outputs": [],
   "source": []
  },
  {
   "cell_type": "code",
   "execution_count": null,
   "metadata": {},
   "outputs": [],
   "source": []
  },
  {
   "cell_type": "code",
   "execution_count": null,
   "metadata": {},
   "outputs": [],
   "source": [
    "\n"
   ]
  },
  {
   "cell_type": "code",
   "execution_count": null,
   "metadata": {},
   "outputs": [],
   "source": [
    "# web scraping for Beijing only\n",
    "with open('BJ_test.csv', 'w') as f: # set up with the writer\n",
    "  w = csv.DictWriter(f, fieldnames = (\"date\", \"title\",\"text\", \"object\", \"response\")) # define column names\n",
    "  w.writeheader() # write the header\n",
    "  url_template= 'http://liuyan.people.com.cn/threads/content?tid={num}'\n",
    "  complaint = {}\n",
    "  for p in range(18717000,18717184): \n",
    "      url_address = url_template.format(num=p)\n",
    "      url_page = urllib.request.urlopen(url_address) # open the web page\n",
    "      soup = BeautifulSoup(url_page.read()) \n",
    "      try:\n",
    "        complaint['date'] = soup.find('span',{'class':'date-display-single'}).text\n",
    "        complaint['title'] = soup.find('h1').text\n",
    "        complaint['text'] = soup.find('div',{'class':'field-docs-content'}).text\n",
    "        complaint['object'] = soup.find('div',{'class':'field-docs-footnote'}).text\n",
    "        complaint['response'] = soup.find('p',{'class':'ucsbapp_citation'}).text\n",
    "      \n",
    "      except:\n",
    "        pass\n",
    "      w.writerow(speech) # write the row \n",
    "      time.sleep(random.uniform(1, 5)) # be polite, sleep!\n",
    "\n"
   ]
  }
 ],
 "metadata": {
  "kernelspec": {
   "display_name": "base",
   "language": "python",
   "name": "python3"
  },
  "language_info": {
   "codemirror_mode": {
    "name": "ipython",
    "version": 3
   },
   "file_extension": ".py",
   "mimetype": "text/x-python",
   "name": "python",
   "nbconvert_exporter": "python",
   "pygments_lexer": "ipython3",
   "version": "3.8.5"
  },
  "orig_nbformat": 4
 },
 "nbformat": 4,
 "nbformat_minor": 2
}
