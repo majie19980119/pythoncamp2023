{
 "cells": [
  {
   "cell_type": "code",
   "execution_count": 184,
   "metadata": {},
   "outputs": [],
   "source": [
    "from bs4 import BeautifulSoup\n",
    "import urllib\n",
    "import csv\n",
    "import time\n",
    "import random\n",
    "import os\n",
    "import binascii"
   ]
  },
  {
   "cell_type": "code",
   "execution_count": 185,
   "metadata": {},
   "outputs": [],
   "source": [
    "os.chdir('/Users/mac/pythoncamp2023/HW')"
   ]
  },
  {
   "cell_type": "code",
   "execution_count": 186,
   "metadata": {},
   "outputs": [],
   "source": [
    "url_try= \"https://xkz.cbirc.gov.cn/jr/XOPPtB/showLicenceInfo.do?id=226027\"\n",
    "url_template= \"https://xkz.cbirc.gov.cn/jr/XOPPtB/showLicenceInfo.do?id={num}\"\n",
    "# url = url_template.format(num=p)\n",
    "# range of p: 1-226027\n"
   ]
  },
  {
   "cell_type": "code",
   "execution_count": 187,
   "metadata": {},
   "outputs": [],
   "source": [
    "web_page = urllib.request.urlopen(url_try) # open the web page\n",
    "soup = BeautifulSoup(web_page.read()) "
   ]
  },
  {
   "cell_type": "code",
   "execution_count": 188,
   "metadata": {},
   "outputs": [
    {
     "data": {
      "text/plain": [
       "[<tr class=\"a0\">\n",
       " <td align=\"right\" height=\"25\" width=\"25%\">\n",
       " \t\t\t\t\t\t机构编码：\n",
       " \t\t\t\t\t</td>\n",
       " <td>\n",
       " \t\t\t\t\t\tE0214U353080009\n",
       " \t\t\t\t\t</td>\n",
       " </tr>,\n",
       " <tr class=\"a0\">\n",
       " <td align=\"right\" height=\"25\">\n",
       " \t\t\t\t\t\t机构名称：\n",
       " \t\t\t\t\t</td>\n",
       " <td>\n",
       " \t\t\t\t\t\t西盟佤族自治县农村信用合作联社娜妥分社\n",
       " \t\t\t\t\t</td>\n",
       " </tr>,\n",
       " <tr class=\"a0\">\n",
       " <td align=\"right\" height=\"25\">\n",
       " \t\t\t\t\t\t机构住所：\n",
       " \t\t\t\t\t</td>\n",
       " <td>\n",
       " \t\t\t\t\t\t西盟县娜妥\n",
       " \t\t\t\t\t</td>\n",
       " </tr>,\n",
       " <tr class=\"a0\">\n",
       " <td align=\"right\" height=\"25\">\n",
       " \t\t\t\t\t\t机构所在地：\n",
       " \t\t\t\t\t</td>\n",
       " <td>\n",
       " \t\t\t\t\t\t云南省-普洱市\n",
       " \t\t\t\t\t</td>\n",
       " </tr>,\n",
       " <tr class=\"a0\">\n",
       " <td align=\"right\" height=\"25\">\n",
       " \t\t\t\t\t\t邮政编码：\n",
       " \t\t\t\t\t</td>\n",
       " <td>\n",
       " \t\t\t\t\t\t665700\n",
       " \t\t\t\t\t</td>\n",
       " </tr>,\n",
       " <tr class=\"a0\">\n",
       " <td align=\"right\" height=\"25\">\n",
       " \t\t\t\t\t\t发证日期：\n",
       " \t\t\t\t\t</td>\n",
       " <td>\n",
       " \t\t\t\t\t\t2007-07-06\n",
       " \t\t\t\t\t</td>\n",
       " </tr>,\n",
       " <tr class=\"a0\">\n",
       " <td align=\"right\" height=\"25\">\n",
       " \t\t\t\t\t\t批准日期：\n",
       " \t\t\t\t\t</td>\n",
       " <td>\n",
       " \t\t\t\t\t\t2007-06-27\n",
       " \t\t\t\t\t</td>\n",
       " </tr>,\n",
       " <tr class=\"a0\">\n",
       " <td align=\"right\" height=\"25\">\n",
       " \t\t\t\t\t\t发证机关：\n",
       " \t\t\t\t\t</td>\n",
       " <td>\n",
       " \t\t\t\t\t\t普洱分局\n",
       " \t\t\t\t\t</td>\n",
       " </tr>,\n",
       " <tr class=\"a0\">\n",
       " <td align=\"right\" height=\"25\">\n",
       " \t\t\t\t\t\t流水号：\n",
       " \t\t\t\t\t</td>\n",
       " <td>\n",
       " \t\t\t\t\t\t00030766\n",
       " \t\t\t\t\t</td>\n",
       " </tr>,\n",
       " <tr class=\"a0\">\n",
       " <td align=\"right\" height=\"25\">\n",
       "                                                 业务范围：\n",
       "                     </td>\n",
       " <td>\n",
       " \t\t\t\t\t\t\n",
       " \t\t\t\t\t\t\n",
       " \t\t\t\t\t\t      许可该机构经营中国银行保险监督管理委员会依照有关法律、行政法规和其他规定批准的业务，经营范围以批准文件所列的为准。     \n",
       " \t\t\t\t\t\t \n",
       " \t\t\t\t\t</td>\n",
       " </tr>,\n",
       " <tr class=\"a0\">\n",
       " <td align=\"right\" height=\"25\">\n",
       " \t\t\t\t\t\t退出日期：\n",
       " \t\t\t\t\t</td>\n",
       " <td>\n",
       " \t\t\t\t\t\t2008-03-19\n",
       " \t\t\t\t\t</td>\n",
       " </tr>]"
      ]
     },
     "execution_count": 188,
     "metadata": {},
     "output_type": "execute_result"
    }
   ],
   "source": [
    "soup.find_all('tr',{'class': 'a0'})"
   ]
  },
  {
   "cell_type": "code",
   "execution_count": 189,
   "metadata": {},
   "outputs": [],
   "source": [
    "from itertools import chain"
   ]
  },
  {
   "cell_type": "code",
   "execution_count": 190,
   "metadata": {},
   "outputs": [
    {
     "data": {
      "text/plain": [
       "<tr class=\"a0\">\n",
       "<td align=\"right\" height=\"25\">\n",
       "\t\t\t\t\t\t退出日期：\n",
       "\t\t\t\t\t</td>\n",
       "<td>\n",
       "\t\t\t\t\t\t2008-03-19\n",
       "\t\t\t\t\t</td>\n",
       "</tr>"
      ]
     },
     "execution_count": 190,
     "metadata": {},
     "output_type": "execute_result"
    }
   ],
   "source": [
    "soup.find_all('tr',{'class': 'a0'})[-1]"
   ]
  },
  {
   "cell_type": "code",
   "execution_count": 191,
   "metadata": {},
   "outputs": [
    {
     "data": {
      "text/plain": [
       "'\\n\\r\\n\\t\\t\\t\\t\\t\\t机构编码：\\r\\n\\t\\t\\t\\t\\t\\n\\r\\n\\t\\t\\t\\t\\t\\tE0214U353080009\\r\\n\\t\\t\\t\\t\\t\\n'"
      ]
     },
     "execution_count": 191,
     "metadata": {},
     "output_type": "execute_result"
    }
   ],
   "source": [
    "soup.find_all('tr',{'class': 'a0'})[0].text"
   ]
  },
  {
   "cell_type": "code",
   "execution_count": 192,
   "metadata": {},
   "outputs": [
    {
     "data": {
      "text/plain": [
       "'\\n\\r\\n\\t\\t\\t\\t\\t\\t机构名称：\\r\\n\\t\\t\\t\\t\\t\\n\\r\\n\\t\\t\\t\\t\\t\\t西盟佤族自治县农村信用合作联社娜妥分社\\r\\n\\t\\t\\t\\t\\t\\n'"
      ]
     },
     "execution_count": 192,
     "metadata": {},
     "output_type": "execute_result"
    }
   ],
   "source": [
    "soup.find_all('tr',{'class':'a0'})[1].text"
   ]
  },
  {
   "cell_type": "code",
   "execution_count": 193,
   "metadata": {},
   "outputs": [
    {
     "data": {
      "text/plain": [
       "'\\n\\r\\n\\t\\t\\t\\t\\t\\t机构住所：\\r\\n\\t\\t\\t\\t\\t\\n\\r\\n\\t\\t\\t\\t\\t\\t西盟县娜妥\\r\\n\\t\\t\\t\\t\\t\\n'"
      ]
     },
     "execution_count": 193,
     "metadata": {},
     "output_type": "execute_result"
    }
   ],
   "source": [
    "soup.find_all('tr',{'class':'a0'})[2].text"
   ]
  },
  {
   "cell_type": "code",
   "execution_count": 194,
   "metadata": {},
   "outputs": [
    {
     "data": {
      "text/plain": [
       "'\\n\\r\\n\\t\\t\\t\\t\\t\\t机构所在地：\\r\\n\\t\\t\\t\\t\\t\\n\\r\\n\\t\\t\\t\\t\\t\\t云南省-普洱市\\r\\n\\t\\t\\t\\t\\t\\n'"
      ]
     },
     "execution_count": 194,
     "metadata": {},
     "output_type": "execute_result"
    }
   ],
   "source": [
    "soup.find_all('tr',{'class':'a0'})[3].text"
   ]
  },
  {
   "cell_type": "code",
   "execution_count": 195,
   "metadata": {},
   "outputs": [
    {
     "data": {
      "text/plain": [
       "'\\n\\r\\n\\t\\t\\t\\t\\t\\t邮政编码：\\r\\n\\t\\t\\t\\t\\t\\n\\r\\n\\t\\t\\t\\t\\t\\t665700\\r\\n\\t\\t\\t\\t\\t\\n'"
      ]
     },
     "execution_count": 195,
     "metadata": {},
     "output_type": "execute_result"
    }
   ],
   "source": [
    "soup.find_all('tr',{'class':'a0'})[4].text"
   ]
  },
  {
   "cell_type": "code",
   "execution_count": 196,
   "metadata": {},
   "outputs": [
    {
     "data": {
      "text/plain": [
       "'\\n\\r\\n\\t\\t\\t\\t\\t\\t发证日期：\\r\\n\\t\\t\\t\\t\\t\\n\\r\\n\\t\\t\\t\\t\\t\\t2007-07-06\\r\\n\\t\\t\\t\\t\\t\\n'"
      ]
     },
     "execution_count": 196,
     "metadata": {},
     "output_type": "execute_result"
    }
   ],
   "source": [
    "soup.find_all('tr',{'class':'a0'})[5].text"
   ]
  },
  {
   "cell_type": "code",
   "execution_count": 197,
   "metadata": {},
   "outputs": [
    {
     "data": {
      "text/plain": [
       "'\\n\\r\\n\\t\\t\\t\\t\\t\\t批准日期：\\r\\n\\t\\t\\t\\t\\t\\n\\r\\n\\t\\t\\t\\t\\t\\t2007-06-27\\r\\n\\t\\t\\t\\t\\t\\n'"
      ]
     },
     "execution_count": 197,
     "metadata": {},
     "output_type": "execute_result"
    }
   ],
   "source": [
    "soup.find_all('tr',{'class':'a0'})[6].text"
   ]
  },
  {
   "cell_type": "code",
   "execution_count": 198,
   "metadata": {},
   "outputs": [
    {
     "data": {
      "text/plain": [
       "'\\n\\r\\n\\t\\t\\t\\t\\t\\t发证机关：\\r\\n\\t\\t\\t\\t\\t\\n\\r\\n\\t\\t\\t\\t\\t\\t普洱分局\\r\\n\\t\\t\\t\\t\\t\\n'"
      ]
     },
     "execution_count": 198,
     "metadata": {},
     "output_type": "execute_result"
    }
   ],
   "source": [
    "soup.find_all('tr',{'class':'a0'})[7].text"
   ]
  },
  {
   "cell_type": "code",
   "execution_count": 199,
   "metadata": {},
   "outputs": [
    {
     "data": {
      "text/plain": [
       "'\\n\\r\\n\\t\\t\\t\\t\\t\\t流水号：\\r\\n\\t\\t\\t\\t\\t\\n\\r\\n\\t\\t\\t\\t\\t\\t00030766\\r\\n\\t\\t\\t\\t\\t\\n'"
      ]
     },
     "execution_count": 199,
     "metadata": {},
     "output_type": "execute_result"
    }
   ],
   "source": [
    "soup.find_all('tr',{'class':'a0'})[8].text"
   ]
  },
  {
   "cell_type": "code",
   "execution_count": 200,
   "metadata": {},
   "outputs": [
    {
     "data": {
      "text/plain": [
       "'\\n\\r\\n                                                业务范围：\\r\\n                    \\n\\r\\n\\t\\t\\t\\t\\t\\t\\r\\n\\t\\t\\t\\t\\t\\t\\r\\n\\t\\t\\t\\t\\t\\t      许可该机构经营中国银行保险监督管理委员会依照有关法律、行政法规和其他规定批准的业务，经营范围以批准文件所列的为准。     \\r\\n\\t\\t\\t\\t\\t\\t \\r\\n\\t\\t\\t\\t\\t\\n'"
      ]
     },
     "execution_count": 200,
     "metadata": {},
     "output_type": "execute_result"
    }
   ],
   "source": [
    "soup.find_all('tr',{'class':'a0'})[9].text"
   ]
  },
  {
   "cell_type": "code",
   "execution_count": 201,
   "metadata": {},
   "outputs": [
    {
     "data": {
      "text/plain": [
       "'\\n\\r\\n\\t\\t\\t\\t\\t\\t退出日期：\\r\\n\\t\\t\\t\\t\\t\\n\\r\\n\\t\\t\\t\\t\\t\\t2008-03-19\\r\\n\\t\\t\\t\\t\\t\\n'"
      ]
     },
     "execution_count": 201,
     "metadata": {},
     "output_type": "execute_result"
    }
   ],
   "source": [
    "soup.find_all('tr',{'class':'a0'})[10].text"
   ]
  },
  {
   "cell_type": "code",
   "execution_count": 203,
   "metadata": {},
   "outputs": [
    {
     "ename": "IndexError",
     "evalue": "list index out of range",
     "output_type": "error",
     "traceback": [
      "\u001b[0;31m---------------------------------------------------------------------------\u001b[0m",
      "\u001b[0;31mIndexError\u001b[0m                                Traceback (most recent call last)",
      "\u001b[0;32m<ipython-input-203-0517024baf33>\u001b[0m in \u001b[0;36m<module>\u001b[0;34m\u001b[0m\n\u001b[0;32m----> 1\u001b[0;31m \u001b[0msoup\u001b[0m\u001b[0;34m.\u001b[0m\u001b[0mfind_all\u001b[0m\u001b[0;34m(\u001b[0m\u001b[0;34m'tr'\u001b[0m\u001b[0;34m,\u001b[0m\u001b[0;34m{\u001b[0m\u001b[0;34m'class'\u001b[0m\u001b[0;34m:\u001b[0m\u001b[0;34m'a0'\u001b[0m\u001b[0;34m}\u001b[0m\u001b[0;34m)\u001b[0m\u001b[0;34m[\u001b[0m\u001b[0;36m11\u001b[0m\u001b[0;34m]\u001b[0m\u001b[0;34m.\u001b[0m\u001b[0mtext\u001b[0m\u001b[0;34m\u001b[0m\u001b[0;34m\u001b[0m\u001b[0m\n\u001b[0m",
      "\u001b[0;31mIndexError\u001b[0m: list index out of range"
     ]
    }
   ],
   "source": [
    "soup.find_all('tr',{'class':'a0'})[11].text"
   ]
  },
  {
   "cell_type": "code",
   "execution_count": 204,
   "metadata": {},
   "outputs": [
    {
     "ename": "IndexError",
     "evalue": "list index out of range",
     "output_type": "error",
     "traceback": [
      "\u001b[0;31m---------------------------------------------------------------------------\u001b[0m",
      "\u001b[0;31mIndexError\u001b[0m                                Traceback (most recent call last)",
      "\u001b[0;32m<ipython-input-204-3dce6cb39239>\u001b[0m in \u001b[0;36m<module>\u001b[0;34m\u001b[0m\n\u001b[0;32m----> 1\u001b[0;31m \u001b[0msoup\u001b[0m\u001b[0;34m.\u001b[0m\u001b[0mfind_all\u001b[0m\u001b[0;34m(\u001b[0m\u001b[0;34m'tr'\u001b[0m\u001b[0;34m,\u001b[0m\u001b[0;34m{\u001b[0m\u001b[0;34m'class'\u001b[0m\u001b[0;34m:\u001b[0m\u001b[0;34m'a0'\u001b[0m\u001b[0;34m}\u001b[0m\u001b[0;34m)\u001b[0m\u001b[0;34m[\u001b[0m\u001b[0;36m12\u001b[0m\u001b[0;34m]\u001b[0m\u001b[0;34m.\u001b[0m\u001b[0mtext\u001b[0m\u001b[0;34m\u001b[0m\u001b[0;34m\u001b[0m\u001b[0m\n\u001b[0m",
      "\u001b[0;31mIndexError\u001b[0m: list index out of range"
     ]
    }
   ],
   "source": [
    "soup.find_all('tr',{'class':'a0'})[12].text"
   ]
  },
  {
   "cell_type": "code",
   "execution_count": 205,
   "metadata": {},
   "outputs": [
    {
     "ename": "IndexError",
     "evalue": "list index out of range",
     "output_type": "error",
     "traceback": [
      "\u001b[0;31m---------------------------------------------------------------------------\u001b[0m",
      "\u001b[0;31mIndexError\u001b[0m                                Traceback (most recent call last)",
      "\u001b[0;32m<ipython-input-205-ee18dcdfedf5>\u001b[0m in \u001b[0;36m<module>\u001b[0;34m\u001b[0m\n\u001b[0;32m----> 1\u001b[0;31m \u001b[0msoup\u001b[0m\u001b[0;34m.\u001b[0m\u001b[0mfind_all\u001b[0m\u001b[0;34m(\u001b[0m\u001b[0;34m'tr'\u001b[0m\u001b[0;34m,\u001b[0m\u001b[0;34m{\u001b[0m\u001b[0;34m'class'\u001b[0m\u001b[0;34m:\u001b[0m\u001b[0;34m'a0'\u001b[0m\u001b[0;34m}\u001b[0m\u001b[0;34m)\u001b[0m\u001b[0;34m[\u001b[0m\u001b[0;36m13\u001b[0m\u001b[0;34m]\u001b[0m\u001b[0;34m.\u001b[0m\u001b[0mtext\u001b[0m\u001b[0;34m\u001b[0m\u001b[0;34m\u001b[0m\u001b[0m\n\u001b[0m",
      "\u001b[0;31mIndexError\u001b[0m: list index out of range"
     ]
    }
   ],
   "source": [
    "soup.find_all('tr',{'class':'a0'})[13].text"
   ]
  }
 ],
 "metadata": {
  "kernelspec": {
   "display_name": "base",
   "language": "python",
   "name": "python3"
  },
  "language_info": {
   "codemirror_mode": {
    "name": "ipython",
    "version": 3
   },
   "file_extension": ".py",
   "mimetype": "text/x-python",
   "name": "python",
   "nbconvert_exporter": "python",
   "pygments_lexer": "ipython3",
   "version": "3.8.5"
  },
  "orig_nbformat": 4
 },
 "nbformat": 4,
 "nbformat_minor": 2
}
